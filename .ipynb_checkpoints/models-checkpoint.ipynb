{
 "cells": [
  {
   "cell_type": "markdown",
   "metadata": {
    "colab_type": "text",
    "id": "yA_SLi-IUyJd"
   },
   "source": [
    "# Getting the data"
   ]
  },
  {
   "cell_type": "code",
   "execution_count": 4,
   "metadata": {
    "colab": {
     "base_uri": "https://localhost:8080/",
     "height": 207
    },
    "colab_type": "code",
    "id": "A5DJXyA7N9tm",
    "outputId": "8a2644a9-f50e-4fd6-b65c-c8dcec9dfbad"
   },
   "outputs": [
    {
     "name": "stdout",
     "output_type": "stream",
     "text": [
      "Selection based on Pearson Correlation\n"
     ]
    },
    {
     "name": "stderr",
     "output_type": "stream",
     "text": [
      "/usr/local/lib/python3.6/dist-packages/numpy/lib/function_base.py:2534: RuntimeWarning: invalid value encountered in true_divide\n",
      "  c /= stddev[:, None]\n",
      "/usr/local/lib/python3.6/dist-packages/numpy/lib/function_base.py:2535: RuntimeWarning: invalid value encountered in true_divide\n",
      "  c /= stddev[None, :]\n"
     ]
    },
    {
     "name": "stdout",
     "output_type": "stream",
     "text": [
      "30 selected features\n",
      "['Init_Win_bytes_backward', 'Fwd Packet Length Min', 'ACK Flag Count', 'Bwd IAT Std', 'FIN Flag Count', 'URG Flag Count', 'Fwd IAT Mean', 'Flow IAT Mean', 'Destination Port', 'Fwd IAT Total', 'Flow Duration', 'PSH Flag Count', 'Flow IAT Std', 'Idle Min', 'Idle Mean', 'Flow IAT Max', 'Fwd IAT Max', 'Idle Max', 'Average Packet Size', 'Fwd IAT Std', 'Packet Length Mean', 'Packet Length Variance', 'Max Packet Length', 'Min Packet Length', 'Packet Length Std', 'Avg Bwd Segment Size', 'Bwd Packet Length Mean', 'Bwd Packet Length Min', 'Bwd Packet Length Max', 'Bwd Packet Length Std']\n",
      "Selection based on chi square distibution\n",
      "30 selected features\n",
      "['Destination Port', 'Flow Duration', 'Bwd Packet Length Max', 'Bwd Packet Length Min', 'Bwd Packet Length Mean', 'Bwd Packet Length Std', 'Flow IAT Mean', 'Flow IAT Std', 'Flow IAT Max', 'Fwd IAT Total', 'Fwd IAT Mean', 'Fwd IAT Std', 'Fwd IAT Max', 'Bwd IAT Std', 'Bwd IAT Max', 'Max Packet Length', 'Packet Length Mean', 'Packet Length Std', 'Packet Length Variance', 'FIN Flag Count', 'PSH Flag Count', 'ACK Flag Count', 'URG Flag Count', 'Average Packet Size', 'Avg Bwd Segment Size', 'Init_Win_bytes_backward', 'Idle Mean', 'Idle Std', 'Idle Max', 'Idle Min']\n"
     ]
    }
   ],
   "source": [
    "import preprocessing\n",
    "import featureSelection\n",
    "from sklearn.model_selection import train_test_split\n",
    "import time"
   ]
  },
  {
   "cell_type": "code",
   "execution_count": 5,
   "metadata": {
    "colab": {
     "base_uri": "https://localhost:8080/",
     "height": 34
    },
    "colab_type": "code",
    "id": "zdydQinuOMJ5",
    "outputId": "895be5da-6157-4d22-a1e1-d7024f7bd96b"
   },
   "outputs": [
    {
     "name": "stdout",
     "output_type": "stream",
     "text": [
      "18\n"
     ]
    }
   ],
   "source": [
    "corf = featureSelection.cor_feature[:23]\n",
    "chif = featureSelection.chi_feature[:25]\n",
    "# corfm = corf[:10] + corf[20:]\n",
    "# print(len(corfm))\n",
    "\n",
    "schi = set(corf)\n",
    "scor = set(chif)\n",
    "\n",
    "sint = schi.intersection(scor)\n",
    "feature_list = list(sint)\n",
    "print(len(feature_list))"
   ]
  },
  {
   "cell_type": "code",
   "execution_count": 6,
   "metadata": {
    "colab": {},
    "colab_type": "code",
    "id": "u-ZfFYPWOUM7"
   },
   "outputs": [],
   "source": [
    "X_train, y_train = featureSelection.X_train, featureSelection.y_train\n",
    "X_train = X_train[feature_list]"
   ]
  },
  {
   "cell_type": "code",
   "execution_count": 7,
   "metadata": {
    "colab": {},
    "colab_type": "code",
    "id": "lltC9qMhv0tG"
   },
   "outputs": [],
   "source": [
    "X_cv, y_cv = featureSelection.X_cv, featureSelection.y_cv\n",
    "X_cv = X_cv[feature_list]"
   ]
  },
  {
   "cell_type": "code",
   "execution_count": 8,
   "metadata": {
    "colab": {
     "base_uri": "https://localhost:8080/",
     "height": 867
    },
    "colab_type": "code",
    "id": "_l8P-7fzUyJt",
    "outputId": "3edd28f4-942d-4604-9bad-7ca3aad910ac"
   },
   "outputs": [
    {
     "name": "stdout",
     "output_type": "stream",
     "text": [
      "<class 'pandas.core.frame.DataFrame'>\n",
      "RangeIndex: 295275 entries, 0 to 295274\n",
      "Data columns (total 18 columns):\n",
      " #   Column                  Non-Null Count   Dtype  \n",
      "---  ------                  --------------   -----  \n",
      " 0   Flow Duration           295275 non-null  float64\n",
      " 1   ACK Flag Count          295275 non-null  float64\n",
      " 2   Destination Port        295275 non-null  float64\n",
      " 3   Fwd IAT Max             295275 non-null  float64\n",
      " 4   Flow IAT Mean           295275 non-null  float64\n",
      " 5   URG Flag Count          295275 non-null  float64\n",
      " 6   Packet Length Mean      295275 non-null  float64\n",
      " 7   Fwd IAT Total           295275 non-null  float64\n",
      " 8   Fwd IAT Mean            295275 non-null  float64\n",
      " 9   Average Packet Size     295275 non-null  float64\n",
      " 10  PSH Flag Count          295275 non-null  float64\n",
      " 11  Flow IAT Std            295275 non-null  float64\n",
      " 12  Bwd IAT Std             295275 non-null  float64\n",
      " 13  Fwd IAT Std             295275 non-null  float64\n",
      " 14  Packet Length Variance  295275 non-null  float64\n",
      " 15  FIN Flag Count          295275 non-null  float64\n",
      " 16  Max Packet Length       295275 non-null  float64\n",
      " 17  Flow IAT Max            295275 non-null  float64\n",
      "dtypes: float64(18)\n",
      "memory usage: 40.5 MB\n",
      "<class 'pandas.core.frame.DataFrame'>\n",
      "RangeIndex: 63274 entries, 0 to 63273\n",
      "Data columns (total 18 columns):\n",
      " #   Column                  Non-Null Count  Dtype  \n",
      "---  ------                  --------------  -----  \n",
      " 0   Flow Duration           63274 non-null  float64\n",
      " 1   ACK Flag Count          63274 non-null  float64\n",
      " 2   Destination Port        63274 non-null  float64\n",
      " 3   Fwd IAT Max             63274 non-null  float64\n",
      " 4   Flow IAT Mean           63274 non-null  float64\n",
      " 5   URG Flag Count          63274 non-null  float64\n",
      " 6   Packet Length Mean      63274 non-null  float64\n",
      " 7   Fwd IAT Total           63274 non-null  float64\n",
      " 8   Fwd IAT Mean            63274 non-null  float64\n",
      " 9   Average Packet Size     63274 non-null  float64\n",
      " 10  PSH Flag Count          63274 non-null  float64\n",
      " 11  Flow IAT Std            63274 non-null  float64\n",
      " 12  Bwd IAT Std             63274 non-null  float64\n",
      " 13  Fwd IAT Std             63274 non-null  float64\n",
      " 14  Packet Length Variance  63274 non-null  float64\n",
      " 15  FIN Flag Count          63274 non-null  float64\n",
      " 16  Max Packet Length       63274 non-null  float64\n",
      " 17  Flow IAT Max            63274 non-null  float64\n",
      "dtypes: float64(18)\n",
      "memory usage: 8.7 MB\n"
     ]
    }
   ],
   "source": [
    "X_train.info()\n",
    "X_cv.info()"
   ]
  },
  {
   "cell_type": "markdown",
   "metadata": {
    "colab_type": "text",
    "id": "fG5J62LzUyJw"
   },
   "source": [
    "# Neural Network"
   ]
  },
  {
   "cell_type": "code",
   "execution_count": 10,
   "metadata": {
    "colab": {
     "base_uri": "https://localhost:8080/",
     "height": 1000
    },
    "colab_type": "code",
    "id": "I9w353JLUyJy",
    "outputId": "658193fc-aed2-4cba-f98e-8e0d75f3c985"
   },
   "outputs": [
    {
     "name": "stdout",
     "output_type": "stream",
     "text": [
      "Epoch 1/100\n",
      "295275/295275 [==============================] - 2s 7us/step - loss: 0.1893 - accuracy: 0.9225\n",
      "Epoch 2/100\n",
      "295275/295275 [==============================] - 2s 7us/step - loss: 0.1326 - accuracy: 0.9510\n",
      "Epoch 3/100\n",
      "295275/295275 [==============================] - 2s 7us/step - loss: 0.1199 - accuracy: 0.9557\n",
      "Epoch 4/100\n",
      "295275/295275 [==============================] - 2s 6us/step - loss: 0.1188 - accuracy: 0.9567\n",
      "Epoch 5/100\n",
      "295275/295275 [==============================] - 2s 6us/step - loss: 0.1119 - accuracy: 0.9600\n",
      "Epoch 6/100\n",
      "295275/295275 [==============================] - 2s 7us/step - loss: 0.1081 - accuracy: 0.9615\n",
      "Epoch 7/100\n",
      "295275/295275 [==============================] - 2s 7us/step - loss: 0.1036 - accuracy: 0.9635\n",
      "Epoch 8/100\n",
      "295275/295275 [==============================] - 2s 7us/step - loss: 0.1011 - accuracy: 0.9644\n",
      "Epoch 9/100\n",
      "295275/295275 [==============================] - 2s 7us/step - loss: 0.0991 - accuracy: 0.9654\n",
      "Epoch 10/100\n",
      "295275/295275 [==============================] - 2s 7us/step - loss: 0.0955 - accuracy: 0.9669\n",
      "Epoch 11/100\n",
      "295275/295275 [==============================] - 2s 7us/step - loss: 0.0973 - accuracy: 0.9661\n",
      "Epoch 12/100\n",
      "295275/295275 [==============================] - 2s 7us/step - loss: 0.0968 - accuracy: 0.9660\n",
      "Epoch 13/100\n",
      "295275/295275 [==============================] - 2s 7us/step - loss: 0.0931 - accuracy: 0.9677\n",
      "Epoch 14/100\n",
      "295275/295275 [==============================] - 2s 7us/step - loss: 0.0940 - accuracy: 0.9674\n",
      "Epoch 15/100\n",
      "295275/295275 [==============================] - 2s 7us/step - loss: 0.0920 - accuracy: 0.9678\n",
      "Epoch 16/100\n",
      "295275/295275 [==============================] - 2s 6us/step - loss: 0.0913 - accuracy: 0.9685\n",
      "Epoch 17/100\n",
      "295275/295275 [==============================] - 2s 7us/step - loss: 0.0919 - accuracy: 0.9680\n",
      "Epoch 18/100\n",
      "295275/295275 [==============================] - 2s 7us/step - loss: 0.0950 - accuracy: 0.9656\n",
      "Epoch 19/100\n",
      "295275/295275 [==============================] - 2s 7us/step - loss: 0.0928 - accuracy: 0.9679\n",
      "Epoch 20/100\n",
      "295275/295275 [==============================] - 2s 7us/step - loss: 0.0923 - accuracy: 0.9675\n",
      "Epoch 21/100\n",
      "295275/295275 [==============================] - 2s 7us/step - loss: 0.0916 - accuracy: 0.9678\n",
      "Epoch 22/100\n",
      "295275/295275 [==============================] - 2s 7us/step - loss: 0.0917 - accuracy: 0.9677\n",
      "Epoch 23/100\n",
      "295275/295275 [==============================] - 2s 7us/step - loss: 0.0928 - accuracy: 0.9677\n",
      "Epoch 24/100\n",
      "295275/295275 [==============================] - 2s 7us/step - loss: 0.0906 - accuracy: 0.9685\n",
      "Epoch 25/100\n",
      "295275/295275 [==============================] - 2s 7us/step - loss: 0.0890 - accuracy: 0.9693\n",
      "Epoch 26/100\n",
      "295275/295275 [==============================] - 2s 7us/step - loss: 0.0907 - accuracy: 0.9683\n",
      "Epoch 27/100\n",
      "295275/295275 [==============================] - 2s 7us/step - loss: 0.0898 - accuracy: 0.9689\n",
      "Epoch 28/100\n",
      "295275/295275 [==============================] - 2s 7us/step - loss: 0.0888 - accuracy: 0.9694\n",
      "Epoch 29/100\n",
      "295275/295275 [==============================] - 2s 7us/step - loss: 0.0902 - accuracy: 0.9686\n",
      "Epoch 30/100\n",
      "295275/295275 [==============================] - 2s 7us/step - loss: 0.0885 - accuracy: 0.9694\n",
      "Epoch 31/100\n",
      "295275/295275 [==============================] - 2s 7us/step - loss: 0.0883 - accuracy: 0.9692\n",
      "Epoch 32/100\n",
      "295275/295275 [==============================] - 2s 7us/step - loss: 0.0874 - accuracy: 0.9698\n",
      "Epoch 33/100\n",
      "295275/295275 [==============================] - 2s 7us/step - loss: 0.0879 - accuracy: 0.9696\n",
      "Epoch 34/100\n",
      "295275/295275 [==============================] - 2s 7us/step - loss: 0.0864 - accuracy: 0.9704\n",
      "Epoch 35/100\n",
      "295275/295275 [==============================] - 2s 7us/step - loss: 0.0869 - accuracy: 0.9702\n",
      "Epoch 36/100\n",
      "295275/295275 [==============================] - 2s 7us/step - loss: 0.0879 - accuracy: 0.9695\n",
      "Epoch 37/100\n",
      "295275/295275 [==============================] - 2s 7us/step - loss: 0.0878 - accuracy: 0.9697\n",
      "Epoch 38/100\n",
      "295275/295275 [==============================] - 2s 7us/step - loss: 0.0875 - accuracy: 0.9699\n",
      "Epoch 39/100\n",
      "295275/295275 [==============================] - 2s 7us/step - loss: 0.0860 - accuracy: 0.9705\n",
      "Epoch 40/100\n",
      "295275/295275 [==============================] - 2s 7us/step - loss: 0.0874 - accuracy: 0.9698\n",
      "Epoch 41/100\n",
      "295275/295275 [==============================] - 2s 6us/step - loss: 0.0868 - accuracy: 0.9700\n",
      "Epoch 42/100\n",
      "295275/295275 [==============================] - 2s 7us/step - loss: 0.0864 - accuracy: 0.9703\n",
      "Epoch 43/100\n",
      "295275/295275 [==============================] - 2s 7us/step - loss: 0.0876 - accuracy: 0.9696\n",
      "Epoch 44/100\n",
      "295275/295275 [==============================] - 2s 7us/step - loss: 0.0880 - accuracy: 0.9694\n",
      "Epoch 45/100\n",
      "295275/295275 [==============================] - 2s 7us/step - loss: 0.0865 - accuracy: 0.9702\n",
      "Epoch 46/100\n",
      "295275/295275 [==============================] - 2s 7us/step - loss: 0.0858 - accuracy: 0.9705\n",
      "Epoch 47/100\n",
      "295275/295275 [==============================] - 2s 7us/step - loss: 0.0856 - accuracy: 0.9703\n",
      "Epoch 48/100\n",
      "295275/295275 [==============================] - 2s 7us/step - loss: 0.0863 - accuracy: 0.9699\n",
      "Epoch 49/100\n",
      "295275/295275 [==============================] - 2s 7us/step - loss: 0.0850 - accuracy: 0.9708\n",
      "Epoch 50/100\n",
      "295275/295275 [==============================] - 2s 6us/step - loss: 0.0858 - accuracy: 0.9705\n",
      "Epoch 51/100\n",
      "295275/295275 [==============================] - 2s 7us/step - loss: 0.0857 - accuracy: 0.9702\n",
      "Epoch 52/100\n",
      "295275/295275 [==============================] - 2s 7us/step - loss: 0.0862 - accuracy: 0.9700\n",
      "Epoch 53/100\n",
      "295275/295275 [==============================] - 2s 7us/step - loss: 0.0872 - accuracy: 0.9696\n",
      "Epoch 54/100\n",
      "295275/295275 [==============================] - 2s 7us/step - loss: 0.0869 - accuracy: 0.9696\n",
      "Epoch 55/100\n",
      "295275/295275 [==============================] - 2s 7us/step - loss: 0.0838 - accuracy: 0.9712\n",
      "Epoch 56/100\n",
      "295275/295275 [==============================] - 2s 7us/step - loss: 0.0843 - accuracy: 0.9710\n",
      "Epoch 57/100\n",
      "295275/295275 [==============================] - 2s 7us/step - loss: 0.0855 - accuracy: 0.9705\n",
      "Epoch 58/100\n",
      "295275/295275 [==============================] - 2s 7us/step - loss: 0.0843 - accuracy: 0.9713\n",
      "Epoch 59/100\n",
      "295275/295275 [==============================] - 2s 7us/step - loss: 0.0851 - accuracy: 0.9707\n",
      "Epoch 60/100\n",
      "295275/295275 [==============================] - 2s 7us/step - loss: 0.0851 - accuracy: 0.9703\n",
      "Epoch 61/100\n",
      "295275/295275 [==============================] - 2s 7us/step - loss: 0.0853 - accuracy: 0.9705\n",
      "Epoch 62/100\n",
      "295275/295275 [==============================] - 2s 7us/step - loss: 0.0835 - accuracy: 0.9712\n",
      "Epoch 63/100\n",
      "295275/295275 [==============================] - 2s 7us/step - loss: 0.0883 - accuracy: 0.9691\n",
      "Epoch 64/100\n",
      "295275/295275 [==============================] - 2s 7us/step - loss: 0.0872 - accuracy: 0.9695\n",
      "Epoch 65/100\n",
      "295275/295275 [==============================] - 2s 7us/step - loss: 0.0852 - accuracy: 0.9708\n",
      "Epoch 66/100\n",
      "295275/295275 [==============================] - 2s 7us/step - loss: 0.0846 - accuracy: 0.9708\n",
      "Epoch 67/100\n",
      "295275/295275 [==============================] - 2s 7us/step - loss: 0.0824 - accuracy: 0.9715\n",
      "Epoch 68/100\n",
      "295275/295275 [==============================] - 2s 7us/step - loss: 0.0835 - accuracy: 0.9711\n",
      "Epoch 69/100\n",
      "295275/295275 [==============================] - 2s 7us/step - loss: 0.0838 - accuracy: 0.9709\n",
      "Epoch 70/100\n",
      "295275/295275 [==============================] - 2s 7us/step - loss: 0.0835 - accuracy: 0.9712\n",
      "Epoch 71/100\n",
      "295275/295275 [==============================] - 2s 7us/step - loss: 0.0861 - accuracy: 0.9700\n",
      "Epoch 72/100\n",
      "295275/295275 [==============================] - 2s 7us/step - loss: 0.0855 - accuracy: 0.9702\n",
      "Epoch 73/100\n",
      "295275/295275 [==============================] - 2s 7us/step - loss: 0.0856 - accuracy: 0.9700\n",
      "Epoch 74/100\n",
      "295275/295275 [==============================] - 2s 7us/step - loss: 0.0840 - accuracy: 0.9711\n",
      "Epoch 75/100\n",
      "295275/295275 [==============================] - 2s 7us/step - loss: 0.0843 - accuracy: 0.9706\n",
      "Epoch 76/100\n",
      "295275/295275 [==============================] - 2s 6us/step - loss: 0.0842 - accuracy: 0.9708\n",
      "Epoch 77/100\n",
      "295275/295275 [==============================] - 2s 7us/step - loss: 0.0853 - accuracy: 0.9705\n",
      "Epoch 78/100\n",
      "295275/295275 [==============================] - 2s 6us/step - loss: 0.0841 - accuracy: 0.9709\n",
      "Epoch 79/100\n",
      "295275/295275 [==============================] - 2s 6us/step - loss: 0.0844 - accuracy: 0.9710\n",
      "Epoch 80/100\n",
      "295275/295275 [==============================] - 2s 6us/step - loss: 0.0830 - accuracy: 0.9715\n",
      "Epoch 81/100\n",
      "295275/295275 [==============================] - 2s 7us/step - loss: 0.0834 - accuracy: 0.9711\n",
      "Epoch 82/100\n",
      "295275/295275 [==============================] - 2s 7us/step - loss: 0.0848 - accuracy: 0.9703\n",
      "Epoch 83/100\n",
      "295275/295275 [==============================] - 2s 7us/step - loss: 0.0845 - accuracy: 0.9705\n",
      "Epoch 84/100\n",
      "295275/295275 [==============================] - 2s 7us/step - loss: 0.0841 - accuracy: 0.9709\n",
      "Epoch 85/100\n",
      "295275/295275 [==============================] - 2s 7us/step - loss: 0.0838 - accuracy: 0.9707\n",
      "Epoch 86/100\n",
      "295275/295275 [==============================] - 2s 7us/step - loss: 0.0838 - accuracy: 0.9708\n",
      "Epoch 87/100\n",
      "295275/295275 [==============================] - 2s 6us/step - loss: 0.0839 - accuracy: 0.9710\n",
      "Epoch 88/100\n",
      "295275/295275 [==============================] - 2s 7us/step - loss: 0.0836 - accuracy: 0.9708\n",
      "Epoch 89/100\n",
      "295275/295275 [==============================] - 2s 7us/step - loss: 0.0851 - accuracy: 0.9708\n",
      "Epoch 90/100\n",
      "295275/295275 [==============================] - 2s 7us/step - loss: 0.0850 - accuracy: 0.9704\n",
      "Epoch 91/100\n",
      "295275/295275 [==============================] - 2s 7us/step - loss: 0.0835 - accuracy: 0.9710\n",
      "Epoch 92/100\n",
      "295275/295275 [==============================] - 2s 7us/step - loss: 0.0843 - accuracy: 0.9708\n",
      "Epoch 93/100\n",
      "295275/295275 [==============================] - 2s 7us/step - loss: 0.0837 - accuracy: 0.9709\n",
      "Epoch 94/100\n",
      "295275/295275 [==============================] - 2s 7us/step - loss: 0.0836 - accuracy: 0.9711\n",
      "Epoch 95/100\n",
      "295275/295275 [==============================] - 2s 7us/step - loss: 0.0832 - accuracy: 0.9712\n",
      "Epoch 96/100\n",
      "295275/295275 [==============================] - 2s 7us/step - loss: 0.0836 - accuracy: 0.9710\n",
      "Epoch 97/100\n",
      "295275/295275 [==============================] - 2s 7us/step - loss: 0.0846 - accuracy: 0.9709\n",
      "Epoch 98/100\n",
      "295275/295275 [==============================] - 2s 7us/step - loss: 0.0841 - accuracy: 0.9710\n",
      "Epoch 99/100\n",
      "295275/295275 [==============================] - 2s 7us/step - loss: 0.0849 - accuracy: 0.9711\n",
      "Epoch 100/100\n",
      "295275/295275 [==============================] - 2s 7us/step - loss: 0.0843 - accuracy: 0.9711\n"
     ]
    },
    {
     "data": {
      "text/plain": [
       "<keras.callbacks.callbacks.History at 0x7fc0eb1fb518>"
      ]
     },
     "execution_count": 10,
     "metadata": {
      "tags": []
     },
     "output_type": "execute_result"
    }
   ],
   "source": [
    "import tensorflow as tf\n",
    "import keras\n",
    "from numpy import loadtxt\n",
    "from keras.models import Sequential\n",
    "from keras.layers import Dense\n",
    "import random\n",
    "from numpy.random import seed\n",
    "import matplotlib.pyplot as plt\n",
    "import numpy as np\n",
    "from keras.optimizers import Adam\n",
    "\n",
    "\n",
    "# X_train = X_train.loc[:65535]\n",
    "# y_train = y_train[:65536]\n",
    "model = Sequential()\n",
    "model.add(Dense(2*len(feature_list), input_dim=len(feature_list), activation='relu'))\n",
    "model.add(Dense(2*len(feature_list), activation='relu'))\n",
    "model.add(Dense(len(feature_list), activation='relu'))\n",
    "# model.add(Dense(2*len(feature_list), activation='relu'))\n",
    "# model.add(Dense(len(feature_list), activation='relu'))\n",
    "model.add(Dense(len(feature_list)//2, activation='relu'))\n",
    "model.add(Dense(1, activation='sigmoid'))\n",
    "\n",
    "model.compile(loss='binary_crossentropy', optimizer=Adam(lr=0.005), metrics=['accuracy'])\n",
    "\n",
    "model.fit(X_train, y_train, epochs=100, batch_size=256)\n"
   ]
  },
  {
   "cell_type": "code",
   "execution_count": 11,
   "metadata": {
    "colab": {},
    "colab_type": "code",
    "id": "70E07CQCUyJ2"
   },
   "outputs": [],
   "source": [
    "def eval_metrics(y, y_predicted):\n",
    "    from sklearn.metrics import accuracy_score , precision_score , recall_score , f1_score\n",
    "    print(accuracy_score(y, y_predicted))\n",
    "    print(precision_score(y, y_predicted))\n",
    "    print(recall_score(y, y_predicted))\n",
    "    print(f1_score(y, y_predicted))"
   ]
  },
  {
   "cell_type": "code",
   "execution_count": 12,
   "metadata": {
    "colab": {
     "base_uri": "https://localhost:8080/",
     "height": 221
    },
    "colab_type": "code",
    "id": "W3Sjltj7UyJ5",
    "outputId": "fb852d13-3abb-4fa0-8746-721faf6ae61f"
   },
   "outputs": [
    {
     "name": "stdout",
     "output_type": "stream",
     "text": [
      "Train metrics\n",
      "Pred time on train set:  3.4350697994232178\n",
      "0.9710541021082042\n",
      "0.9496993508230888\n",
      "0.9897053967788091\n",
      "0.9692897513932256\n",
      "CV metrics\n",
      "Pred time on cv set:  0.7485418319702148\n",
      "0.9721686632740146\n",
      "0.9514690882769059\n",
      "0.9902068209834269\n",
      "0.970451532795275\n"
     ]
    }
   ],
   "source": [
    "print('Train metrics')\n",
    "t_train = time.time()\n",
    "y_train_pred = model.predict_classes(X_train)\n",
    "print('Pred time on train set: ',time.time()-t_train)\n",
    "eval_metrics(y_train, y_train_pred)\n",
    "print('CV metrics')\n",
    "t_cv = time.time()\n",
    "y_cv_pred = model.predict_classes(X_cv)\n",
    "print('Pred time on cv set: ',time.time()-t_cv)\n",
    "eval_metrics(y_cv, y_cv_pred)"
   ]
  },
  {
   "cell_type": "markdown",
   "metadata": {
    "colab_type": "text",
    "id": "yut5irb7UyJ8"
   },
   "source": [
    "# Ensemble Learning"
   ]
  },
  {
   "cell_type": "code",
   "execution_count": 13,
   "metadata": {
    "colab": {},
    "colab_type": "code",
    "id": "MliTJ0dZQLFa"
   },
   "outputs": [],
   "source": [
    "from sklearn.ensemble import VotingClassifier\n",
    "from sklearn.ensemble import GradientBoostingClassifier\n",
    "from sklearn.neighbors import KNeighborsClassifier\n",
    "from sklearn.ensemble import ExtraTreesClassifier\n",
    "from sklearn.ensemble import AdaBoostClassifier\n",
    "from sklearn.ensemble import BaggingClassifier\n",
    "from sklearn.ensemble import RandomForestClassifier\n",
    "from sklearn.metrics import accuracy_score , precision_score , recall_score , f1_score"
   ]
  },
  {
   "cell_type": "code",
   "execution_count": 14,
   "metadata": {
    "colab": {},
    "colab_type": "code",
    "id": "El0FZScBPy-O"
   },
   "outputs": [],
   "source": [
    "rdf_c = RandomForestClassifier(n_estimators=300,random_state=0)\n",
    "knn_clf = KNeighborsClassifier()\n",
    "ExtraTrees_clf = ExtraTreesClassifier()\n",
    "gradient_boost = GradientBoostingClassifier()\n",
    "ada_mod = AdaBoostClassifier(base_estimator= None)\n",
    "bg_mod = BaggingClassifier(base_estimator= None, bootstrap_features=False)"
   ]
  },
  {
   "cell_type": "code",
   "execution_count": 15,
   "metadata": {
    "colab": {
     "base_uri": "https://localhost:8080/",
     "height": 527
    },
    "colab_type": "code",
    "id": "rJdGBuVDPE0q",
    "outputId": "659e8532-b40f-4946-8023-ae2ddc3ea45b"
   },
   "outputs": [
    {
     "data": {
      "text/plain": [
       "VotingClassifier(estimators=[('bagging_classifier',\n",
       "                              BaggingClassifier(base_estimator=None,\n",
       "                                                bootstrap=True,\n",
       "                                                bootstrap_features=False,\n",
       "                                                max_features=1.0,\n",
       "                                                max_samples=1.0,\n",
       "                                                n_estimators=10, n_jobs=None,\n",
       "                                                oob_score=False,\n",
       "                                                random_state=None, verbose=0,\n",
       "                                                warm_start=False)),\n",
       "                             ('rnd_classifier',\n",
       "                              RandomForestClassifier(bootstrap=True,\n",
       "                                                     ccp_alpha=0.0,\n",
       "                                                     class_weight=None,\n",
       "                                                     criterion...\n",
       "                                                   min_samples_split=2,\n",
       "                                                   min_weight_fraction_leaf=0.0,\n",
       "                                                   n_estimators=100,\n",
       "                                                   n_jobs=None, oob_score=False,\n",
       "                                                   random_state=None, verbose=0,\n",
       "                                                   warm_start=False)),\n",
       "                             ('KNN_classifier',\n",
       "                              KNeighborsClassifier(algorithm='auto',\n",
       "                                                   leaf_size=30,\n",
       "                                                   metric='minkowski',\n",
       "                                                   metric_params=None,\n",
       "                                                   n_jobs=None, n_neighbors=5,\n",
       "                                                   p=2, weights='uniform'))],\n",
       "                 flatten_transform=True, n_jobs=-1, voting='soft',\n",
       "                 weights=None)"
      ]
     },
     "execution_count": 15,
     "metadata": {
      "tags": []
     },
     "output_type": "execute_result"
    }
   ],
   "source": [
    "vot_classifier = VotingClassifier(estimators=[\n",
    "    ('bagging_classifier', bg_mod),\n",
    "    ('rnd_classifier', rdf_c),\n",
    "    ('ExtraTreesClassifier', ExtraTrees_clf),\n",
    "    ('KNN_classifier', knn_clf),\n",
    "],voting='soft', n_jobs=-1)\n",
    "\n",
    "vot_classifier.fit(X_train, y_train)"
   ]
  },
  {
   "cell_type": "code",
   "execution_count": 16,
   "metadata": {
    "colab": {
     "base_uri": "https://localhost:8080/",
     "height": 221
    },
    "colab_type": "code",
    "id": "I35J4p4oPEm4",
    "outputId": "6e06f68f-0eb9-4c70-ad4f-258efd2ad85f"
   },
   "outputs": [
    {
     "name": "stdout",
     "output_type": "stream",
     "text": [
      "Train metrics\n",
      "Pred time on train set:  151.6073043346405\n",
      "0.9977173821014309\n",
      "0.9953971257607528\n",
      "0.9996771471548593\n",
      "0.9975325455051326\n",
      "CV metrics\n",
      "Pred time on cv set:  33.10685205459595\n",
      "0.9963334070866391\n",
      "0.994200327510917\n",
      "0.9978770031502534\n",
      "0.9960352724041287\n"
     ]
    }
   ],
   "source": [
    "print('Train metrics')\n",
    "t_train = time.time()\n",
    "y_train_pred = vot_classifier.predict(X_train)\n",
    "print('Pred time on train set: ',time.time()-t_train)\n",
    "eval_metrics(y_train, y_train_pred)\n",
    "print('CV metrics')\n",
    "t_cv = time.time()\n",
    "y_cv_pred = vot_classifier.predict(X_cv)\n",
    "print('Pred time on cv set: ',time.time()-t_cv)\n",
    "eval_metrics(y_cv, y_cv_pred)"
   ]
  },
  {
   "cell_type": "code",
   "execution_count": null,
   "metadata": {
    "colab": {},
    "colab_type": "code",
    "id": "fKEbaLUPn09Y"
   },
   "outputs": [],
   "source": [
    "for clf in (ExtraTrees_clf, knn_clf, vot_classifier):\n",
    "    clf.fit(X_train, y_train)\n",
    "    y1 = clf.predict(X_train)\n",
    "    print(clf.__class__.__name__, accuracy_score(y_train, y1))\n",
    "    print(precision_score(y_train, y1))\n",
    "    print(recall_score(y_train, y1))\n",
    "    print(f1_score(y_train, y1))"
   ]
  },
  {
   "cell_type": "code",
   "execution_count": null,
   "metadata": {
    "colab": {},
    "colab_type": "code",
    "id": "YTkGy_CLUyKK"
   },
   "outputs": [],
   "source": [
    "for clf in (ExtraTrees_clf, knn_clf, vot_classifier):\n",
    "    clf.fit(X_cv, y_cv)\n",
    "    y1 = clf.predict(X_cv)\n",
    "    print(clf.__class__.__name__, accuracy_score(y_cv, y1))\n",
    "    print(precision_score(y_cv, y1))\n",
    "    print(recall_score(y_cv, y1))\n",
    "    print(f1_score(y_cv, y1))"
   ]
  },
  {
   "cell_type": "markdown",
   "metadata": {
    "colab_type": "text",
    "id": "3nMx41hxUyKN"
   },
   "source": [
    "# Accurate and Quick"
   ]
  },
  {
   "cell_type": "code",
   "execution_count": 17,
   "metadata": {
    "colab": {
     "base_uri": "https://localhost:8080/",
     "height": 153
    },
    "colab_type": "code",
    "id": "IqR9QVAbUyKN",
    "outputId": "04ce6e98-ea56-4e89-874e-a6abffc9b95b"
   },
   "outputs": [
    {
     "data": {
      "text/plain": [
       "ExtraTreesClassifier(bootstrap=False, ccp_alpha=0.0, class_weight=None,\n",
       "                     criterion='gini', max_depth=None, max_features='auto',\n",
       "                     max_leaf_nodes=None, max_samples=None,\n",
       "                     min_impurity_decrease=0.0, min_impurity_split=None,\n",
       "                     min_samples_leaf=1, min_samples_split=2,\n",
       "                     min_weight_fraction_leaf=0.0, n_estimators=100,\n",
       "                     n_jobs=None, oob_score=False, random_state=None, verbose=0,\n",
       "                     warm_start=False)"
      ]
     },
     "execution_count": 17,
     "metadata": {
      "tags": []
     },
     "output_type": "execute_result"
    }
   ],
   "source": [
    "ExtraTrees_clf.fit(X_train, y_train)"
   ]
  },
  {
   "cell_type": "code",
   "execution_count": 18,
   "metadata": {
    "colab": {
     "base_uri": "https://localhost:8080/",
     "height": 221
    },
    "colab_type": "code",
    "id": "caROYTtQUyKQ",
    "outputId": "4fccd0ce-9c94-46ea-b8ff-0e1e0080396e"
   },
   "outputs": [
    {
     "name": "stdout",
     "output_type": "stream",
     "text": [
      "Train metrics\n",
      "Pred time on train set:  4.788719415664673\n",
      "0.9987807975615951\n",
      "0.9981967056891736\n",
      "0.9991635176284991\n",
      "0.998679877668664\n",
      "CV metrics\n",
      "Pred time on cv set:  1.05177903175354\n",
      "0.9968391440402061\n",
      "0.9960322889588179\n",
      "0.99712368168744\n",
      "0.9965776865160849\n"
     ]
    }
   ],
   "source": [
    "print('Train metrics')\n",
    "t_train = time.time()\n",
    "y_train_pred = ExtraTrees_clf.predict(X_train)\n",
    "print('Pred time on train set: ',time.time()-t_train)\n",
    "eval_metrics(y_train, y_train_pred)\n",
    "print('CV metrics')\n",
    "t_cv = time.time()\n",
    "y_cv_pred = ExtraTrees_clf.predict(X_cv)\n",
    "print('Pred time on cv set: ',time.time()-t_cv)\n",
    "eval_metrics(y_cv, y_cv_pred)"
   ]
  }
 ],
 "metadata": {
  "colab": {
   "collapsed_sections": [],
   "name": "models.ipynb",
   "provenance": [],
   "toc_visible": true
  },
  "kernelspec": {
   "display_name": "Python 3",
   "language": "python",
   "name": "python3"
  },
  "language_info": {
   "codemirror_mode": {
    "name": "ipython",
    "version": 3
   },
   "file_extension": ".py",
   "mimetype": "text/x-python",
   "name": "python",
   "nbconvert_exporter": "python",
   "pygments_lexer": "ipython3",
   "version": "3.5.2"
  }
 },
 "nbformat": 4,
 "nbformat_minor": 1
}
