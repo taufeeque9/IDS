{
  "nbformat": 4,
  "nbformat_minor": 0,
  "metadata": {
    "colab": {
      "name": "Vanshika_Model.ipynb",
      "provenance": [],
      "toc_visible": true
    },
    "kernelspec": {
      "name": "python3",
      "display_name": "Python 3"
    }
  },
  "cells": [
    {
      "cell_type": "markdown",
      "metadata": {
        "id": "lwDJjGu05mun",
        "colab_type": "text"
      },
      "source": [
        "# Preprocessing"
      ]
    },
    {
      "cell_type": "code",
      "metadata": {
        "id": "_kLW9Yl1492y",
        "colab_type": "code",
        "colab": {
          "base_uri": "https://localhost:8080/",
          "height": 35
        },
        "outputId": "9c6c1ed3-3aa5-44ca-c554-030708369722"
      },
      "source": [
        "import pandas as pd\n",
        "import numpy as np\n",
        "from glob import glob\n",
        "from sklearn import preprocessing\n",
        "from sklearn.model_selection import StratifiedShuffleSplit\n",
        "from sklearn.preprocessing import StandardScaler\n",
        "import os\n",
        "\n",
        "\n",
        "def combine_csv():\n",
        "    data_files = sorted(glob('Dataset/*.pcap_ISCX.csv'))\n",
        "    ids = pd.read_csv(data_files[0])\n",
        "    for i in range(1, len(data_files)):\n",
        "        dfi = pd.read_csv(data_files[i])\n",
        "        dfi.dropna(axis=0, how='any', inplace=True)\n",
        "        ids = pd.concat((ids, dfi), ignore_index=True)\n",
        "\n",
        "    del dfi\n",
        "    print(ids.head())\n",
        "    print(ids.head())\n",
        "    ids.to_csv('Dataset/combined_data.csv', index=False)\n",
        "\n",
        "\n",
        "def resize_dataset():\n",
        "    ids = pd.read_csv('./Dataset/combined_data.csv',\n",
        "                      dtype={'Flow Bytes/s': str, ' Flow Packets/s': str})\n",
        "    labels_to_drop = {'BENIGN': 0.1, 'DoS Hulk': 0.3, 'DDoS': 0.3, 'PortScan': 0.3}\n",
        "    for label in labels_to_drop:\n",
        "        df = ids.loc[ids[' Label'] == label]\n",
        "        ids.drop(ids.index[ids[' Label'] == label], inplace=True)\n",
        "        df = df.sample(frac=labels_to_drop[label])\n",
        "        ids = pd.concat((ids, df), ignore_index=True)\n",
        "\n",
        "    ids = ids.sample(frac=1, random_state=42)\n",
        "    ids.reset_index(drop=True, inplace=True)\n",
        "    ids['Flow Bytes/s'] = ids['Flow Bytes/s'].str.strip()\n",
        "    ids[' Flow Packets/s'] = ids[' Flow Packets/s'].str.strip()\n",
        "    ids = ids.astype({'Flow Bytes/s': float, ' Flow Packets/s': float})\n",
        "    ids.columns = ids.columns.str.strip()\n",
        "    ids.dropna(inplace=True)\n",
        "    indices_to_keep = ~ids.isin([np.nan, np.inf, -np.inf]).any(axis=1)\n",
        "    ids = ids[indices_to_keep]\n",
        "    ids.to_csv('Dataset/resized_data.csv', index=False)\n",
        "    return ids\n",
        "\n",
        "\n",
        "def binary_label_encoder(y):\n",
        "    '''\n",
        "    converts multiclass labels to binary labels\n",
        "    '''\n",
        "    y[\"BinaryLabel\"] = (y[\"Label\"] != 'BENIGN').astype(int)\n",
        "\n",
        "    return y\n",
        "\n",
        "\n",
        "def split_dataset(df):\n",
        "    '''\n",
        "    Takes a dataframe df and splits it in 0.7:0.15:0.15 ratio for training, cross-validation and test sets.\n",
        "    '''\n",
        "    split = StratifiedShuffleSplit(n_splits=1, test_size=0.3, random_state=42)\n",
        "    for train_index, test_index in split.split(df, df['BinaryLabel']):\n",
        "        train = df.loc[train_index]\n",
        "        test = df.loc[test_index]\n",
        "\n",
        "    split = StratifiedShuffleSplit(n_splits=1, test_size=0.5, random_state=42)\n",
        "    for test_index, cv_index in split.split(test, test['BinaryLabel']):\n",
        "        test = df.loc[train_index]\n",
        "        cv = df.loc[cv_index]\n",
        "\n",
        "    return train, cv, test\n",
        "\n",
        "\n",
        "def main():\n",
        "    if not os.path.isfile('Dataset/combined_data.csv'):\n",
        "        combine_csv()\n",
        "    if not os.path.isfile('Dataset/resized_data.csv'):\n",
        "        resize_dataset()\n",
        "\n",
        "\n",
        "if __name__ == \"__main__\":\n",
        "    main()\n"
      ],
      "execution_count": 3,
      "outputs": [
        {
          "output_type": "stream",
          "text": [
            "a\n"
          ],
          "name": "stdout"
        }
      ]
    },
    {
      "cell_type": "markdown",
      "metadata": {
        "id": "m8qrA3gf8ff1",
        "colab_type": "text"
      },
      "source": [
        "# Feature Selection"
      ]
    },
    {
      "cell_type": "code",
      "metadata": {
        "id": "q4CCOoBu8dFh",
        "colab_type": "code",
        "outputId": "d60fe97a-3fc5-44f7-8611-9f6767311807",
        "colab": {
          "base_uri": "https://localhost:8080/",
          "height": 219
        }
      },
      "source": [
        "import pandas as pd\n",
        "import numpy as np\n",
        "from sklearn.feature_selection import SelectKBest\n",
        "from sklearn.preprocessing import MinMaxScaler\n",
        "from sklearn.feature_selection import chi2\n",
        "#from preprocessing import binary_label_encoder, split_dataset\n",
        "\n",
        "def get_x_y(df):\n",
        "    y = train[['BinaryLabel']]\n",
        "    X = train.drop(['Label', 'BinaryLabel'], axis=1, inplace=False)\n",
        "    y = y['BinaryLabel'].values\n",
        "    return X, y\n",
        "\n",
        "\n",
        "dataset = pd.read_csv(\"/content/drive/My Drive/Dataset/resized_data.csv\")\n",
        "dataset = binary_label_encoder(dataset)\n",
        "train, cv, test = split_dataset(dataset)\n",
        "\n",
        "X_train, y_train = get_x_y(train)\n",
        "cols = X_train.columns.tolist()\n",
        "mm_scaler = MinMaxScaler()\n",
        "X_new = X_train\n",
        "X_new[cols] = mm_scaler.fit_transform(X_train[cols])\n",
        "\n",
        "\n",
        "X_cv, y_cv = get_x_y(cv)\n",
        "X_cv[cols] = mm_scaler.transform(X_cv[cols])\n",
        "\n",
        "# Features needed can be changed below to get the top 'k'\n",
        "# features for model training\n",
        "features_needed = 15\n",
        "\n",
        "######################################################################\n",
        "\n",
        "print(\"Selection based on Pearson Correlation\")\n",
        "\n",
        "\n",
        "def cor_selector(X, y, num_feats):\n",
        "    cor_list = []\n",
        "    feature_name = X.columns.tolist()\n",
        "    # calculate the correlation with y for each feature\n",
        "    for i in X.columns.tolist():\n",
        "        cor = np.corrcoef(X[i], y)[0, 1]\n",
        "        cor_list.append(cor)\n",
        "    # replace NaN with 0\n",
        "    cor_list = [0 if np.isnan(i) else i for i in cor_list]\n",
        "    # feature name\n",
        "    cor_feature = X.iloc[:, np.argsort(np.abs(cor_list))[-num_feats:]].columns.tolist()\n",
        "    # feature selection? 0 for not select, 1 for select\n",
        "    cor_support = [True if i in cor_feature else False for i in feature_name]\n",
        "    return cor_support, cor_feature\n",
        "\n",
        "\n",
        "cor_support, cor_feature = cor_selector(X_new, y_train, features_needed)\n",
        "print(str(len(cor_feature)), 'selected features')\n",
        "print(cor_feature)\n",
        "\n",
        "#####################################################################\n",
        "\n",
        "print(\"Selection based on chi square distibution\")\n",
        "\n",
        "chi_selector = SelectKBest(chi2, k=features_needed)\n",
        "X_kbest_features = chi_selector.fit_transform(X_new, y_train)\n",
        "chi_support = chi_selector.get_support()\n",
        "chi_feature = X_new.loc[:, chi_support].columns.tolist()\n",
        "print(str(len(chi_feature)), 'selected features')\n",
        "print(chi_feature)\n",
        "\n",
        "\n",
        "# # More Raw Approach - Leaving the first 2 valued and\n",
        "# # last NaN valued features, all other features are\n",
        "# # dependent and can be considered for training\n",
        "\n",
        "# print(\"Raw Approach of chi square\")\n",
        "# chi_scores = chi2(X_new,y)\n",
        "# p_values = pd.Series(chi_scores[1],index = X_new.columns)\n",
        "# p_values.sort_values(ascending = False , inplace = True)\n",
        "# # p_values.plot.bar()\n",
        "# # print(p_values)"
      ],
      "execution_count": 20,
      "outputs": [
        {
          "output_type": "stream",
          "text": [
            "Selection based on Pearson Correlation\n"
          ],
          "name": "stdout"
        },
        {
          "output_type": "stream",
          "text": [
            "/usr/local/lib/python3.6/dist-packages/numpy/lib/function_base.py:2534: RuntimeWarning: invalid value encountered in true_divide\n",
            "  c /= stddev[:, None]\n",
            "/usr/local/lib/python3.6/dist-packages/numpy/lib/function_base.py:2535: RuntimeWarning: invalid value encountered in true_divide\n",
            "  c /= stddev[None, :]\n"
          ],
          "name": "stderr"
        },
        {
          "output_type": "stream",
          "text": [
            "20 selected features\n",
            "['Flow Duration', 'PSH Flag Count', 'Flow IAT Std', 'Idle Min', 'Idle Mean', 'Flow IAT Max', 'Fwd IAT Max', 'Idle Max', 'Average Packet Size', 'Fwd IAT Std', 'Packet Length Mean', 'Packet Length Variance', 'Max Packet Length', 'Packet Length Std', 'Min Packet Length', 'Avg Bwd Segment Size', 'Bwd Packet Length Mean', 'Bwd Packet Length Min', 'Bwd Packet Length Max', 'Bwd Packet Length Std']\n",
            "Selection based on chi square distibution\n",
            "20 selected features\n",
            "['Destination Port', 'Flow Duration', 'Bwd Packet Length Max', 'Bwd Packet Length Mean', 'Bwd Packet Length Std', 'Flow IAT Std', 'Flow IAT Max', 'Fwd IAT Total', 'Fwd IAT Std', 'Fwd IAT Max', 'Max Packet Length', 'Packet Length Mean', 'Packet Length Std', 'Packet Length Variance', 'PSH Flag Count', 'URG Flag Count', 'Avg Bwd Segment Size', 'Idle Mean', 'Idle Max', 'Idle Min']\n"
          ],
          "name": "stdout"
        }
      ]
    },
    {
      "cell_type": "markdown",
      "metadata": {
        "id": "TRdNhuCk9bKs",
        "colab_type": "text"
      },
      "source": [
        "# Model"
      ]
    },
    {
      "cell_type": "code",
      "metadata": {
        "id": "TETeYm5gFEwi",
        "colab_type": "code",
        "colab": {}
      },
      "source": [
        "import numpy as np\n",
        "import pandas as pd\n",
        "import torch.nn as nn\n",
        "import torch.optim as optim\n",
        "import sklearn\n",
        "from sklearn.model_selection import train_test_split\n",
        "import torch\n",
        "import torchvision\n",
        "import torchvision.transforms as transforms\n",
        "from torch.utils.data import Dataset, DataLoader\n",
        "import torch.utils.data as data_utils\n",
        "import seaborn as sns\n",
        "import matplotlib.pyplot as plt"
      ],
      "execution_count": 0,
      "outputs": []
    },
    {
      "cell_type": "code",
      "metadata": {
        "id": "jhQFksc99B0u",
        "colab_type": "code",
        "colab": {}
      },
      "source": [
        "x1,y1 = X_new[chi_feature], y_train\n",
        "x_test,y_test = X_cv[chi_feature],y_cv\n",
        "#X_new.iloc[:,chi_support]  \n",
        "#x2,y2 = X_new[cor_feature],y_train"
      ],
      "execution_count": 0,
      "outputs": []
    },
    {
      "cell_type": "code",
      "metadata": {
        "id": "RHs5QSbA9XnO",
        "colab_type": "code",
        "colab": {}
      },
      "source": [
        "train = torch.tensor(x1.values.astype(np.float32))\n",
        "train_target = torch.tensor(y1.astype(np.float32))\n",
        "\n",
        "train_dataset = data_utils.TensorDataset(train,train_target)\n",
        "train_loader = data_utils.DataLoader(dataset= train_dataset , batch_size = 64, shuffle = True)"
      ],
      "execution_count": 0,
      "outputs": []
    },
    {
      "cell_type": "code",
      "metadata": {
        "id": "lxdOQo0yV5NU",
        "colab_type": "code",
        "colab": {}
      },
      "source": [
        "test = torch.tensor(x_test.values.astype(np.float32))\n",
        "test_target = torch.tensor(y_test.astype(np.float32))\n",
        "\n",
        "test_dataset = data_utils.TensorDataset(test,test_target)\n",
        "test_loader = data_utils.DataLoader(dataset = test_dataset,batch_size =1, shuffle= False)"
      ],
      "execution_count": 0,
      "outputs": []
    },
    {
      "cell_type": "code",
      "metadata": {
        "id": "6tD-64Y9Hb4f",
        "colab_type": "code",
        "colab": {}
      },
      "source": [
        "class Net(nn.Module):\n",
        "  def __init__(self):\n",
        "    super(Net,self).__init__()\n",
        "    self.fc1 = nn.Linear(15,34)\n",
        "    self.fc2 = nn.Linear(34,52)\n",
        "    self.fc3 = nn.Linear(52,1)\n",
        "    \n",
        "    self.relu = nn.ReLU()\n",
        "    self.dropout = nn.Dropout(p=0.1)\n",
        "    self.batchnorm1 = nn.BatchNorm1d(34)\n",
        "    self.batchnorm2 = nn.BatchNorm1d(52)\n",
        "\n",
        "    # define forward loop\n",
        "  def forward(self, inputs):\n",
        "    x = self.relu(self.fc1(inputs))\n",
        "    x = self.batchnorm1(x)\n",
        "    x = self.relu(self.fc2(x))\n",
        "    x = self.batchnorm2(x)\n",
        "    x = self.dropout(x)\n",
        "    x = self.fc3(x)\n",
        "\n",
        "    return x"
      ],
      "execution_count": 0,
      "outputs": []
    },
    {
      "cell_type": "code",
      "metadata": {
        "id": "6O62b4mnIQBi",
        "colab_type": "code",
        "outputId": "bf0b7ee0-af61-4656-c4e5-755768a1e638",
        "colab": {
          "base_uri": "https://localhost:8080/",
          "height": 181
        }
      },
      "source": [
        "model = Net()\n",
        "print(model)\n",
        "Loss_function = nn.BCEWithLogitsLoss()\n",
        "Optimizer_with_Regularization_Function = optim.Adam(model.parameters(),lr=0.01)"
      ],
      "execution_count": 11,
      "outputs": [
        {
          "output_type": "stream",
          "text": [
            "Net(\n",
            "  (fc1): Linear(in_features=15, out_features=34, bias=True)\n",
            "  (fc2): Linear(in_features=34, out_features=52, bias=True)\n",
            "  (fc3): Linear(in_features=52, out_features=1, bias=True)\n",
            "  (relu): ReLU()\n",
            "  (dropout): Dropout(p=0.1, inplace=False)\n",
            "  (batchnorm1): BatchNorm1d(34, eps=1e-05, momentum=0.1, affine=True, track_running_stats=True)\n",
            "  (batchnorm2): BatchNorm1d(52, eps=1e-05, momentum=0.1, affine=True, track_running_stats=True)\n",
            ")\n"
          ],
          "name": "stdout"
        }
      ]
    },
    {
      "cell_type": "code",
      "metadata": {
        "id": "fg2nIcplPjoc",
        "colab_type": "code",
        "colab": {}
      },
      "source": [
        "def binary_acc(y_pred,y_batch):\n",
        "  y_pred_rounded = torch.round(torch.sigmoid(y_pred))\n",
        "\n",
        "\n",
        "  correct_result_sum = (y_pred_rounded == y_batch).sum().float()\n",
        "  acc = correct_result_sum / y_batch.shape[0]\n",
        "  acc = torch.round(100* acc)\n",
        "   \n",
        "  return acc"
      ],
      "execution_count": 0,
      "outputs": []
    },
    {
      "cell_type": "code",
      "metadata": {
        "id": "XbD_CAd_Pxvl",
        "colab_type": "code",
        "outputId": "018de74f-6f76-4a39-f4ed-2d15cf2d9c71",
        "colab": {
          "base_uri": "https://localhost:8080/",
          "height": 381
        }
      },
      "source": [
        "model.train()\n",
        "epochs = 20\n",
        "for i in range(1,epochs+1):\n",
        "  epochs_loss = 0\n",
        "  epochs_acc = 0\n",
        "  for x_batch,y_batch in train_loader:\n",
        "    Optimizer_with_Regularization_Function.zero_grad()\n",
        "\n",
        "    y_pred = model(x_batch)\n",
        "\n",
        "    #print(y_pred.size())\n",
        "    #print(y_batch.size())\n",
        "    \n",
        "    loss = Loss_function(y_pred,y_batch.unsqueeze(1))\n",
        "    acc = binary_acc(y_pred,y_batch.unsqueeze(1))\n",
        "\n",
        "    #backpropagation\n",
        "    loss.backward()\n",
        "    Optimizer_with_Regularization_Function.step() # 1 time updation\n",
        "    \n",
        "    epochs_loss += loss.item()\n",
        "    epochs_acc += acc.item()\n",
        "\n",
        "\n",
        "  print(f'Epoch {i}: | Loss: {epochs_loss/len(train_loader): .5f} | Acc: {epochs_acc/len(train_loader): .3f}')"
      ],
      "execution_count": 13,
      "outputs": [
        {
          "output_type": "stream",
          "text": [
            "Epoch 1: | Loss:  0.25563 | Acc:  87.928\n",
            "Epoch 2: | Loss:  0.23285 | Acc:  88.712\n",
            "Epoch 3: | Loss:  0.22992 | Acc:  88.706\n",
            "Epoch 4: | Loss:  0.22670 | Acc:  88.776\n",
            "Epoch 5: | Loss:  0.22771 | Acc:  88.689\n",
            "Epoch 6: | Loss:  0.22650 | Acc:  88.818\n",
            "Epoch 7: | Loss:  0.22695 | Acc:  88.761\n",
            "Epoch 8: | Loss:  0.22264 | Acc:  88.931\n",
            "Epoch 9: | Loss:  0.22176 | Acc:  88.905\n",
            "Epoch 10: | Loss:  0.21904 | Acc:  89.064\n",
            "Epoch 11: | Loss:  0.21601 | Acc:  89.121\n",
            "Epoch 12: | Loss:  0.21451 | Acc:  89.085\n",
            "Epoch 13: | Loss:  0.21864 | Acc:  89.003\n",
            "Epoch 14: | Loss:  0.21209 | Acc:  89.269\n",
            "Epoch 15: | Loss:  0.21800 | Acc:  88.984\n",
            "Epoch 16: | Loss:  0.21334 | Acc:  89.344\n",
            "Epoch 17: | Loss:  0.21311 | Acc:  89.447\n",
            "Epoch 18: | Loss:  0.21093 | Acc:  89.552\n",
            "Epoch 19: | Loss:  0.21427 | Acc:  89.358\n",
            "Epoch 20: | Loss:  0.21152 | Acc:  89.386\n"
          ],
          "name": "stdout"
        }
      ]
    },
    {
      "cell_type": "code",
      "metadata": {
        "id": "DYQuiWedP2YX",
        "colab_type": "code",
        "colab": {}
      },
      "source": [
        "model.eval()\n",
        "\n",
        "y_pred_list = []\n",
        "y_correct_list = []\n",
        "\n",
        "with torch.no_grad():\n",
        "  for x_batch,y_batch in test_loader:\n",
        "    y_pred = model(x_batch)\n",
        "    y_pred = torch.sigmoid(y_pred)\n",
        "    y_pred_list.append(y_pred.cpu().numpy())\n",
        "    y_correct_list.append(y_batch.numpy())   #numpy arrays will be formed,will convert arrays into list\n",
        "\n",
        "\n",
        "y_pred_list = [a.squeeze().tolist() for a in y_pred_list]\n",
        "y_correct_list = [a.squeeze().tolist() for a in y_correct_list]"
      ],
      "execution_count": 0,
      "outputs": []
    },
    {
      "cell_type": "code",
      "metadata": {
        "id": "uDM2VW3GYFEZ",
        "colab_type": "code",
        "colab": {}
      },
      "source": [
        "y_pred_ana = []\n",
        "y_pred_non = []\n",
        "\n",
        "len_of_list = len(y_pred_list)\n",
        "\n",
        "for i in range(0,len_of_list):\n",
        "  if y_correct_list[i] == 0:\n",
        "    y_pred_non.append(y_pred_list[i])\n",
        "  else:\n",
        "    y_pred_ana.append(y_pred_list[i])\n",
        "\n",
        "y_pred_non = [i*100 for i in y_pred_non]\n",
        "y_pred_ana = [i*100 for i in y_pred_ana]"
      ],
      "execution_count": 0,
      "outputs": []
    },
    {
      "cell_type": "code",
      "metadata": {
        "id": "VpO9BRx2ZdwC",
        "colab_type": "code",
        "outputId": "7bc9816a-e897-4013-85ed-d4e635914d6f",
        "colab": {
          "base_uri": "https://localhost:8080/",
          "height": 297
        }
      },
      "source": [
        "data = y_pred_non\n",
        "bins = np.linspace(0, 100, 25, endpoint=True)\n",
        "plt.hist(data,bins,color='green',alpha=0.5,label='non_spam')\n",
        "\n",
        "data1 = y_pred_ana\n",
        "plt.hist(data1,bins,color='red',alpha=0.6,label='spam')\n",
        "\n",
        "plt.legend(bbox_to_anchor=(1.05,1),loc='upper left')\n",
        "plt.xlabel('Anamoaly Score')\n",
        "plt.ylabel('Occurences')"
      ],
      "execution_count": 17,
      "outputs": [
        {
          "output_type": "execute_result",
          "data": {
            "text/plain": [
              "Text(0, 0.5, 'Occurences')"
            ]
          },
          "metadata": {
            "tags": []
          },
          "execution_count": 17
        },
        {
          "output_type": "display_data",
          "data": {
            "image/png": "[encoded data removed]",
            "text/plain": [
              "<Figure size 432x288 with 1 Axes>"
            ]
          },
          "metadata": {
            "tags": [],
            "needs_background": "light"
          }
        }
      ]
    },
    {
      "cell_type": "code",
      "metadata": {
        "id": "1DNKaad1aLl9",
        "colab_type": "code",
        "outputId": "32c2ee61-a689-4902-f757-e935feb3fc2e",
        "colab": {
          "base_uri": "https://localhost:8080/",
          "height": 181
        }
      },
      "source": [
        "from sklearn.metrics import classification_report\n",
        "\n",
        "y_test = np.array(y_test)\n",
        "y_pred_list = np.array(y_pred_list)\n",
        "\n",
        "print(classification_report(y_test,y_pred_list.round(),target_names = [\"Normal\",\"Abnormal\"]))"
      ],
      "execution_count": 18,
      "outputs": [
        {
          "output_type": "stream",
          "text": [
            "              precision    recall  f1-score   support\n",
            "\n",
            "      Normal       0.86      0.98      0.92     34069\n",
            "    Abnormal       0.97      0.82      0.89     29203\n",
            "\n",
            "    accuracy                           0.90     63272\n",
            "   macro avg       0.92      0.90      0.90     63272\n",
            "weighted avg       0.91      0.90      0.90     63272\n",
            "\n"
          ],
          "name": "stdout"
        }
      ]
    },
    {
      "cell_type": "code",
      "metadata": {
        "id": "y8_nzwf_atL4",
        "colab_type": "code",
        "colab": {}
      },
      "source": [
        ""
      ],
      "execution_count": 0,
      "outputs": []
    }
  ]
}