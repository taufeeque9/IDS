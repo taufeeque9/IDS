{
 "cells": [
  {
   "cell_type": "markdown",
   "metadata": {
    "colab_type": "text",
    "id": "yA_SLi-IUyJd"
   },
   "source": [
    "# Getting the data"
   ]
  },
  {
   "cell_type": "code",
   "execution_count": 1,
   "metadata": {
    "colab": {
     "base_uri": "https://localhost:8080/",
     "height": 207
    },
    "colab_type": "code",
    "id": "A5DJXyA7N9tm",
    "outputId": "8a2644a9-f50e-4fd6-b65c-c8dcec9dfbad"
   },
   "outputs": [],
   "source": [
    "import preprocessing\n",
    "import featureSelection\n",
    "import time\n",
    "\n",
    "def eval_metrics(y, y_predicted):\n",
    "    from sklearn.metrics import accuracy_score , precision_score , recall_score , f1_score\n",
    "    print(accuracy_score(y, y_predicted))\n",
    "    print(precision_score(y, y_predicted))\n",
    "    print(recall_score(y, y_predicted))\n",
    "    print(f1_score(y, y_predicted))"
   ]
  },
  {
   "cell_type": "code",
   "execution_count": 2,
   "metadata": {
    "colab": {
     "base_uri": "https://localhost:8080/",
     "height": 34
    },
    "colab_type": "code",
    "id": "zdydQinuOMJ5",
    "outputId": "895be5da-6157-4d22-a1e1-d7024f7bd96b"
   },
   "outputs": [
    {
     "name": "stdout",
     "output_type": "stream",
     "text": [
      "16\n"
     ]
    }
   ],
   "source": [
    "# corf = featureSelection.cor_feature[:23]\n",
    "# print(corf)\n",
    "\n",
    "# chif = featureSelection.chi_feature[:23]\n",
    "# print(chif)\n",
    "# # corfm = corf[:10] + corf[20:]\n",
    "# # print(len(corfm))\n",
    "\n",
    "features_extracted = ['Destination Port', 'Flow Duration', 'Bwd Packet Length Max', 'Bwd Packet Length Mean', 'Bwd Packet Length Std', 'Flow IAT Max', 'Fwd IAT Total', 'Fwd IAT Std', 'Fwd IAT Max', 'Max Packet Length', 'Packet Length Mean', 'Packet Length Std', 'Packet Length Variance', 'PSH Flag Count', 'URG Flag Count', 'Avg Bwd Segment Size']\n",
    "\n",
    "\n",
    "feature_list = features_extracted\n",
    "print(len(feature_list))"
   ]
  },
  {
   "cell_type": "code",
   "execution_count": 3,
   "metadata": {
    "colab": {},
    "colab_type": "code",
    "id": "u-ZfFYPWOUM7"
   },
   "outputs": [],
   "source": [
    "X_train, y_train = featureSelection.X_train, featureSelection.y_train\n",
    "X_train = X_train[feature_list]"
   ]
  },
  {
   "cell_type": "code",
   "execution_count": 4,
   "metadata": {
    "colab": {},
    "colab_type": "code",
    "id": "lltC9qMhv0tG"
   },
   "outputs": [],
   "source": [
    "X_cv, y_cv = featureSelection.X_cv, featureSelection.y_cv\n",
    "X_cv = X_cv[feature_list]"
   ]
  },
  {
   "cell_type": "code",
   "execution_count": 5,
   "metadata": {
    "colab": {
     "base_uri": "https://localhost:8080/",
     "height": 867
    },
    "colab_type": "code",
    "id": "_l8P-7fzUyJt",
    "outputId": "3edd28f4-942d-4604-9bad-7ca3aad910ac"
   },
   "outputs": [
    {
     "name": "stdout",
     "output_type": "stream",
     "text": [
      "<class 'pandas.core.frame.DataFrame'>\n",
      "RangeIndex: 2545088 entries, 0 to 2545087\n",
      "Data columns (total 16 columns):\n",
      " #   Column                  Dtype  \n",
      "---  ------                  -----  \n",
      " 0   Destination Port        int64  \n",
      " 1   Flow Duration           int64  \n",
      " 2   Bwd Packet Length Max   int64  \n",
      " 3   Bwd Packet Length Mean  float64\n",
      " 4   Bwd Packet Length Std   float64\n",
      " 5   Flow IAT Max            int64  \n",
      " 6   Fwd IAT Total           int64  \n",
      " 7   Fwd IAT Std             float64\n",
      " 8   Fwd IAT Max             int64  \n",
      " 9   Max Packet Length       int64  \n",
      " 10  Packet Length Mean      float64\n",
      " 11  Packet Length Std       float64\n",
      " 12  Packet Length Variance  float64\n",
      " 13  PSH Flag Count          int64  \n",
      " 14  URG Flag Count          int64  \n",
      " 15  Avg Bwd Segment Size    float64\n",
      "dtypes: float64(7), int64(9)\n",
      "memory usage: 310.7 MB\n",
      "<class 'pandas.core.frame.DataFrame'>\n",
      "RangeIndex: 141394 entries, 0 to 141393\n",
      "Data columns (total 16 columns):\n",
      " #   Column                  Non-Null Count   Dtype  \n",
      "---  ------                  --------------   -----  \n",
      " 0   Destination Port        141394 non-null  int64  \n",
      " 1   Flow Duration           141394 non-null  int64  \n",
      " 2   Bwd Packet Length Max   141394 non-null  int64  \n",
      " 3   Bwd Packet Length Mean  141394 non-null  float64\n",
      " 4   Bwd Packet Length Std   141394 non-null  float64\n",
      " 5   Flow IAT Max            141394 non-null  int64  \n",
      " 6   Fwd IAT Total           141394 non-null  int64  \n",
      " 7   Fwd IAT Std             141394 non-null  float64\n",
      " 8   Fwd IAT Max             141394 non-null  int64  \n",
      " 9   Max Packet Length       141394 non-null  int64  \n",
      " 10  Packet Length Mean      141394 non-null  float64\n",
      " 11  Packet Length Std       141394 non-null  float64\n",
      " 12  Packet Length Variance  141394 non-null  float64\n",
      " 13  PSH Flag Count          141394 non-null  int64  \n",
      " 14  URG Flag Count          141394 non-null  int64  \n",
      " 15  Avg Bwd Segment Size    141394 non-null  float64\n",
      "dtypes: float64(7), int64(9)\n",
      "memory usage: 17.3 MB\n"
     ]
    }
   ],
   "source": [
    "X_train.info()\n",
    "X_cv.info()"
   ]
  },
  {
   "cell_type": "markdown",
   "metadata": {
    "colab_type": "text",
    "id": "fG5J62LzUyJw"
   },
   "source": [
    "# Neural Network"
   ]
  },
  {
   "cell_type": "code",
   "execution_count": null,
   "metadata": {
    "colab": {
     "base_uri": "https://localhost:8080/",
     "height": 1000
    },
    "colab_type": "code",
    "id": "I9w353JLUyJy",
    "outputId": "658193fc-aed2-4cba-f98e-8e0d75f3c985"
   },
   "outputs": [],
   "source": [
    "import tensorflow as tf\n",
    "import tensorflow.keras\n",
    "from numpy import loadtxt\n",
    "from tensorflow.keras.models import Sequential\n",
    "from tensorflow.keras.layers import Dense, Activation, BatchNormalization, Dropout\n",
    "import random\n",
    "from numpy.random import seed\n",
    "import matplotlib.pyplot as plt\n",
    "import numpy as np\n",
    "from tensorflow.keras.optimizers import Adam\n",
    "\n",
    "\n",
    "# X_train = X_train.loc[:65535]\n",
    "# y_train = y_train[:65536]\n",
    "model = Sequential()\n",
    "model.add(Dense(2*len(feature_list), input_dim=len(feature_list)))\n",
    "model.add(BatchNormalization())\n",
    "model.add(Activation('relu'))\n",
    "model.add(Dropout(0.2))\n",
    "# model.add(Dense(2*len(feature_list), activation='relu'))\n",
    "# model.add(Dense(len(feature_list), activation='relu'))\n",
    "# model.add(Dense(len(feature_list), activation='relu'))\n",
    "# model.add(Dense(len(feature_list), activation='relu'))\n",
    "# model.add(Dense(len(feature_list), activation='relu'))\n",
    "model.add(Dense(len(feature_list), activation='relu'))\n",
    "model.add(BatchNormalization())\n",
    "model.add(Activation('relu'))\n",
    "model.add(Dropout(0.2))\n",
    "model.add(Dense(len(feature_list)//2, activation='relu'))\n",
    "model.add(BatchNormalization())\n",
    "model.add(Activation('relu'))\n",
    "model.add(Dense(1, activation='sigmoid'))\n",
    "model.compile(loss='binary_crossentropy', optimizer=Adam(lr=0.001), metrics=['accuracy'])\n",
    "\n",
    "model.fit(X_train, y_train, epochs=10, batch_size=256)\n"
   ]
  },
  {
   "cell_type": "code",
   "execution_count": null,
   "metadata": {
    "colab": {},
    "colab_type": "code",
    "id": "70E07CQCUyJ2"
   },
   "outputs": [],
   "source": [
    "model.save('nn.h5')"
   ]
  },
  {
   "cell_type": "code",
   "execution_count": null,
   "metadata": {},
   "outputs": [],
   "source": []
  },
  {
   "cell_type": "code",
   "execution_count": null,
   "metadata": {
    "colab": {
     "base_uri": "https://localhost:8080/",
     "height": 221
    },
    "colab_type": "code",
    "id": "W3Sjltj7UyJ5",
    "outputId": "fb852d13-3abb-4fa0-8746-721faf6ae61f"
   },
   "outputs": [],
   "source": [
    "print('Train metrics')\n",
    "t_train = time.time()\n",
    "y_train_pred = (model.predict(X_train) > 0.5).astype(\"int32\")\n",
    "print('Pred time on train set: ',time.time()-t_train)\n",
    "eval_metrics(y_train, y_train_pred)\n",
    "print('CV metrics')\n",
    "t_cv = time.time()\n",
    "y_cv_pred = (model.predict(X_cv) > 0.5).astype(\"int32\")\n",
    "print('Pred time on cv set: ',time.time()-t_cv)\n",
    "eval_metrics(y_cv, y_cv_pred)"
   ]
  },
  {
   "cell_type": "code",
   "execution_count": null,
   "metadata": {},
   "outputs": [],
   "source": [
    "X_test, y_test = featureSelection.get_x_y(featureSelection.test)\n",
    "# print(X_test.info)\n",
    "y_test_pred =(model.predict(X_test[feature_list]) > 0.5).astype(\"int32\")\n",
    "# print(y_test_pred)\n",
    "eval_metrics(y_test, y_test_pred)"
   ]
  },
  {
   "cell_type": "markdown",
   "metadata": {
    "colab_type": "text",
    "id": "yut5irb7UyJ8"
   },
   "source": [
    "# Ensemble Learning"
   ]
  },
  {
   "cell_type": "code",
   "execution_count": null,
   "metadata": {
    "colab": {},
    "colab_type": "code",
    "id": "MliTJ0dZQLFa"
   },
   "outputs": [],
   "source": [
    "from sklearn.ensemble import VotingClassifier\n",
    "from sklearn.ensemble import GradientBoostingClassifier\n",
    "from sklearn.neighbors import KNeighborsClassifier\n",
    "from sklearn.ensemble import ExtraTreesClassifier\n",
    "from sklearn.ensemble import AdaBoostClassifier\n",
    "from sklearn.ensemble import BaggingClassifier\n",
    "from sklearn.ensemble import RandomForestClassifier\n",
    "from sklearn.metrics import accuracy_score , precision_score , recall_score , f1_score"
   ]
  },
  {
   "cell_type": "code",
   "execution_count": null,
   "metadata": {
    "colab": {},
    "colab_type": "code",
    "id": "El0FZScBPy-O"
   },
   "outputs": [],
   "source": [
    "rdf_c = RandomForestClassifier(n_estimators=300,random_state=0)\n",
    "knn_clf = KNeighborsClassifier()\n",
    "ExtraTrees_clf = ExtraTreesClassifier(n_estimators=100)\n",
    "gradient_boost = GradientBoostingClassifier()\n",
    "ada_mod = AdaBoostClassifier(base_estimator= None)\n",
    "bg_mod = BaggingClassifier(base_estimator= None, bootstrap_features=False)"
   ]
  },
  {
   "cell_type": "code",
   "execution_count": null,
   "metadata": {
    "colab": {
     "base_uri": "https://localhost:8080/",
     "height": 527
    },
    "colab_type": "code",
    "id": "rJdGBuVDPE0q",
    "outputId": "659e8532-b40f-4946-8023-ae2ddc3ea45b"
   },
   "outputs": [],
   "source": [
    "vot_classifier = VotingClassifier(estimators=[\n",
    "    ('bagging_classifier', bg_mod),\n",
    "    ('rnd_classifier', rdf_c),\n",
    "    ('ExtraTreesClassifier', ExtraTrees_clf),\n",
    "    ('KNN_classifier', knn_clf),\n",
    "],voting='soft', n_jobs=-1)\n",
    "\n",
    "vot_classifier.fit(X_train, y_train)"
   ]
  },
  {
   "cell_type": "code",
   "execution_count": null,
   "metadata": {
    "colab": {
     "base_uri": "https://localhost:8080/",
     "height": 221
    },
    "colab_type": "code",
    "id": "I35J4p4oPEm4",
    "outputId": "6e06f68f-0eb9-4c70-ad4f-258efd2ad85f"
   },
   "outputs": [],
   "source": [
    "print('Train metrics')\n",
    "t_train = time.time()\n",
    "y_train_pred = vot_classifier.predict(X_train)\n",
    "print('Pred time on train set: ',time.time()-t_train)\n",
    "eval_metrics(y_train, y_train_pred)\n",
    "print('CV metrics')\n",
    "t_cv = time.time()\n",
    "y_cv_pred = vot_classifier.predict(X_cv)\n",
    "print('Pred time on cv set: ',time.time()-t_cv)\n",
    "eval_metrics(y_cv, y_cv_pred)"
   ]
  },
  {
   "cell_type": "code",
   "execution_count": null,
   "metadata": {
    "colab": {},
    "colab_type": "code",
    "id": "fKEbaLUPn09Y"
   },
   "outputs": [],
   "source": [
    "for clf in (ExtraTrees_clf, knn_clf, vot_classifier):\n",
    "    clf.fit(X_train, y_train)\n",
    "    y1 = clf.predict(X_train)\n",
    "    print(clf.__class__.__name__, accuracy_score(y_train, y1))\n",
    "    print(precision_score(y_train, y1))\n",
    "    print(recall_score(y_train, y1))\n",
    "    print(f1_score(y_train, y1))"
   ]
  },
  {
   "cell_type": "code",
   "execution_count": null,
   "metadata": {
    "colab": {},
    "colab_type": "code",
    "id": "YTkGy_CLUyKK"
   },
   "outputs": [],
   "source": [
    "for clf in (ExtraTrees_clf, knn_clf, vot_classifier):\n",
    "    clf.fit(X_cv, y_cv)\n",
    "    y1 = clf.predict(X_cv)\n",
    "    print(clf.__class__.__name__, accuracy_score(y_cv, y1))\n",
    "    print(precision_score(y_cv, y1))\n",
    "    print(recall_score(y_cv, y1))\n",
    "    print(f1_score(y_cv, y1))"
   ]
  },
  {
   "cell_type": "markdown",
   "metadata": {
    "colab_type": "text",
    "id": "3nMx41hxUyKN"
   },
   "source": [
    "# ExtraTrees"
   ]
  },
  {
   "cell_type": "code",
   "execution_count": 15,
   "metadata": {
    "colab": {
     "base_uri": "https://localhost:8080/",
     "height": 153
    },
    "colab_type": "code",
    "id": "IqR9QVAbUyKN",
    "outputId": "04ce6e98-ea56-4e89-874e-a6abffc9b95b"
   },
   "outputs": [
    {
     "data": {
      "text/plain": [
       "Pipeline(steps=[('minmaxscaler', MinMaxScaler()),\n",
       "                ('extratreesclassifier',\n",
       "                 ExtraTreesClassifier(n_estimators=50))])"
      ]
     },
     "execution_count": 15,
     "metadata": {},
     "output_type": "execute_result"
    }
   ],
   "source": [
    "from sklearn.ensemble import ExtraTreesClassifier\n",
    "from sklearn.preprocessing import MinMaxScaler\n",
    "from sklearn.pipeline import make_pipeline\n",
    "\n",
    "mm_scaler = MinMaxScaler()\n",
    "ExtraTrees_clf = ExtraTreesClassifier(n_estimators=50)\n",
    "\n",
    "pipeline = make_pipeline(mm_scaler, ExtraTrees_clf)\n",
    "pipeline.fit(X_train, y_train)"
   ]
  },
  {
   "cell_type": "code",
   "execution_count": 16,
   "metadata": {
    "colab": {
     "base_uri": "https://localhost:8080/",
     "height": 221
    },
    "colab_type": "code",
    "id": "caROYTtQUyKQ",
    "outputId": "4fccd0ce-9c94-46ea-b8ff-0e1e0080396e"
   },
   "outputs": [
    {
     "name": "stdout",
     "output_type": "stream",
     "text": [
      "Train metrics\n",
      "Pred time on train set:  21.26222538948059\n",
      "0.9983914112203586\n",
      "0.9941868099074903\n",
      "0.9976602116190857\n",
      "0.995920482287878\n",
      "CV metrics\n",
      "Pred time on cv set:  1.2038090229034424\n",
      "0.9974609955160757\n",
      "0.9916944116278237\n",
      "0.9954362512577261\n",
      "0.993561808432417\n"
     ]
    }
   ],
   "source": [
    "print('Train metrics')\n",
    "t_train = time.time()\n",
    "y_train_pred = pipeline.predict(X_train)\n",
    "print('Pred time on train set: ',time.time()-t_train)\n",
    "eval_metrics(y_train, y_train_pred)\n",
    "print('CV metrics')\n",
    "t_cv = time.time()\n",
    "y_cv_pred = pipeline.predict(X_cv)\n",
    "print('Pred time on cv set: ',time.time()-t_cv)\n",
    "eval_metrics(y_cv, y_cv_pred)"
   ]
  },
  {
   "cell_type": "code",
   "execution_count": null,
   "metadata": {},
   "outputs": [],
   "source": [
    "X_test, y_test = featureSelection.get_x_y(featureSelection.test)\n",
    "y_test_pred = pipeline.predict(X_test[feature_list])\n",
    "eval_metrics(y_test, y_test_pred)"
   ]
  },
  {
   "cell_type": "code",
   "execution_count": 36,
   "metadata": {},
   "outputs": [
    {
     "name": "stdout",
     "output_type": "stream",
     "text": [
      "0.9974609955160757\n",
      "0.9916944116278237\n",
      "0.9954362512577261\n",
      "0.993561808432417\n",
      "0.9976802410286151\n",
      "0.9926549623790756\n",
      "0.9955799913755929\n",
      "0.9941153252718075\n"
     ]
    }
   ],
   "source": [
    "import joblib \n",
    "# joblib.dump(pipeline, 'extratrees.sav')\n",
    "model = joblib.load('extratrees.sav')"
   ]
  },
  {
   "cell_type": "code",
   "execution_count": null,
   "metadata": {},
   "outputs": [],
   "source": []
  },
  {
   "cell_type": "code",
   "execution_count": null,
   "metadata": {},
   "outputs": [],
   "source": []
  }
 ],
 "metadata": {
  "colab": {
   "collapsed_sections": [],
   "name": "models.ipynb",
   "provenance": [],
   "toc_visible": true
  },
  "kernelspec": {
   "display_name": "Python 3",
   "language": "python",
   "name": "python3"
  },
  "language_info": {
   "codemirror_mode": {
    "name": "ipython",
    "version": 3
   },
   "file_extension": ".py",
   "mimetype": "text/x-python",
   "name": "python",
   "nbconvert_exporter": "python",
   "pygments_lexer": "ipython3",
   "version": "3.8.3"
  }
 },
 "nbformat": 4,
 "nbformat_minor": 1
}
