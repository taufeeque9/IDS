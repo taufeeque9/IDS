{
 "cells": [
  {
   "cell_type": "markdown",
   "metadata": {},
   "source": [
    "# Getting the data"
   ]
  },
  {
   "cell_type": "code",
   "execution_count": 1,
   "metadata": {
    "colab": {},
    "colab_type": "code",
    "id": "A5DJXyA7N9tm"
   },
   "outputs": [
    {
     "name": "stdout",
     "output_type": "stream",
     "text": [
      "Selection based on Pearson Correlation\n"
     ]
    },
    {
     "name": "stderr",
     "output_type": "stream",
     "text": [
      "c:\\users\\aaate\\appdata\\local\\programs\\python\\python38\\lib\\site-packages\\numpy\\lib\\function_base.py:2534: RuntimeWarning: invalid value encountered in true_divide\n",
      "  c /= stddev[:, None]\n",
      "c:\\users\\aaate\\appdata\\local\\programs\\python\\python38\\lib\\site-packages\\numpy\\lib\\function_base.py:2535: RuntimeWarning: invalid value encountered in true_divide\n",
      "  c /= stddev[None, :]\n"
     ]
    },
    {
     "name": "stdout",
     "output_type": "stream",
     "text": [
      "25 selected features\n",
      "['URG Flag Count', 'Fwd IAT Mean', 'Flow IAT Mean', 'Destination Port', 'Fwd IAT Total', 'Flow Duration', 'PSH Flag Count', 'Flow IAT Std', 'Idle Min', 'Idle Mean', 'Flow IAT Max', 'Fwd IAT Max', 'Idle Max', 'Average Packet Size', 'Fwd IAT Std', 'Packet Length Mean', 'Packet Length Variance', 'Max Packet Length', 'Min Packet Length', 'Packet Length Std', 'Bwd Packet Length Min', 'Avg Bwd Segment Size', 'Bwd Packet Length Mean', 'Bwd Packet Length Max', 'Bwd Packet Length Std']\n",
      "Selection based on chi square distibution\n",
      "25 selected features\n",
      "['Destination Port', 'Flow Duration', 'Bwd Packet Length Max', 'Bwd Packet Length Min', 'Bwd Packet Length Mean', 'Bwd Packet Length Std', 'Flow IAT Std', 'Flow IAT Max', 'Fwd IAT Total', 'Fwd IAT Std', 'Fwd IAT Max', 'Bwd IAT Std', 'Max Packet Length', 'Packet Length Mean', 'Packet Length Std', 'Packet Length Variance', 'FIN Flag Count', 'PSH Flag Count', 'ACK Flag Count', 'URG Flag Count', 'Average Packet Size', 'Avg Bwd Segment Size', 'Idle Mean', 'Idle Max', 'Idle Min']\n"
     ]
    }
   ],
   "source": [
    "import preprocessing\n",
    "import featureSelection\n",
    "from sklearn.model_selection import train_test_split"
   ]
  },
  {
   "cell_type": "code",
   "execution_count": 50,
   "metadata": {
    "colab": {},
    "colab_type": "code",
    "id": "zdydQinuOMJ5"
   },
   "outputs": [
    {
     "name": "stdout",
     "output_type": "stream",
     "text": [
      "20\n"
     ]
    }
   ],
   "source": [
    "corf = featureSelection.cor_feature[:23]\n",
    "chif = featureSelection.chi_feature[:25]\n",
    "# corfm = corf[:10] + corf[20:]\n",
    "# print(len(corfm))\n",
    "\n",
    "schi = set(corf)\n",
    "scor = set(chif)\n",
    "\n",
    "sint = schi.intersection(scor)\n",
    "feature_list = list(sint)\n",
    "print(len(feature_list))"
   ]
  },
  {
   "cell_type": "code",
   "execution_count": 51,
   "metadata": {
    "colab": {
     "base_uri": "https://localhost:8080/",
     "height": 255
    },
    "colab_type": "code",
    "id": "u-ZfFYPWOUM7",
    "outputId": "78e1d34b-a9f3-4f81-8f28-00ab120007f0"
   },
   "outputs": [],
   "source": [
    "X_train, y_train = featureSelection.X_train, featureSelection.y_train\n",
    "X_train = X_train[feature_list]"
   ]
  },
  {
   "cell_type": "code",
   "execution_count": 52,
   "metadata": {
    "colab": {},
    "colab_type": "code",
    "id": "lltC9qMhv0tG"
   },
   "outputs": [],
   "source": [
    "X_cv, y_cv = featureSelection.X_cv, featureSelection.y_cv\n",
    "X_cv = X_cv[feature_list]"
   ]
  },
  {
   "cell_type": "code",
   "execution_count": 53,
   "metadata": {},
   "outputs": [
    {
     "name": "stdout",
     "output_type": "stream",
     "text": [
      "<class 'pandas.core.frame.DataFrame'>\n",
      "RangeIndex: 295264 entries, 0 to 295263\n",
      "Data columns (total 20 columns):\n",
      " #   Column                  Non-Null Count   Dtype  \n",
      "---  ------                  --------------   -----  \n",
      " 0   Fwd IAT Max             295264 non-null  float64\n",
      " 1   Idle Max                295264 non-null  float64\n",
      " 2   Destination Port        295264 non-null  float64\n",
      " 3   Average Packet Size     295264 non-null  float64\n",
      " 4   Fwd IAT Std             295264 non-null  float64\n",
      " 5   Packet Length Std       295264 non-null  float64\n",
      " 6   URG Flag Count          295264 non-null  float64\n",
      " 7   Packet Length Mean      295264 non-null  float64\n",
      " 8   Packet Length Variance  295264 non-null  float64\n",
      " 9   Idle Min                295264 non-null  float64\n",
      " 10  Bwd Packet Length Mean  295264 non-null  float64\n",
      " 11  Flow IAT Max            295264 non-null  float64\n",
      " 12  Flow Duration           295264 non-null  float64\n",
      " 13  Flow IAT Std            295264 non-null  float64\n",
      " 14  Idle Mean               295264 non-null  float64\n",
      " 15  PSH Flag Count          295264 non-null  float64\n",
      " 16  Max Packet Length       295264 non-null  float64\n",
      " 17  Avg Bwd Segment Size    295264 non-null  float64\n",
      " 18  Bwd Packet Length Min   295264 non-null  float64\n",
      " 19  Fwd IAT Total           295264 non-null  float64\n",
      "dtypes: float64(20)\n",
      "memory usage: 45.1 MB\n",
      "<class 'pandas.core.frame.DataFrame'>\n",
      "RangeIndex: 63272 entries, 0 to 63271\n",
      "Data columns (total 20 columns):\n",
      " #   Column                  Non-Null Count  Dtype  \n",
      "---  ------                  --------------  -----  \n",
      " 0   Fwd IAT Max             63272 non-null  float64\n",
      " 1   Idle Max                63272 non-null  float64\n",
      " 2   Destination Port        63272 non-null  float64\n",
      " 3   Average Packet Size     63272 non-null  float64\n",
      " 4   Fwd IAT Std             63272 non-null  float64\n",
      " 5   Packet Length Std       63272 non-null  float64\n",
      " 6   URG Flag Count          63272 non-null  float64\n",
      " 7   Packet Length Mean      63272 non-null  float64\n",
      " 8   Packet Length Variance  63272 non-null  float64\n",
      " 9   Idle Min                63272 non-null  float64\n",
      " 10  Bwd Packet Length Mean  63272 non-null  float64\n",
      " 11  Flow IAT Max            63272 non-null  float64\n",
      " 12  Flow Duration           63272 non-null  float64\n",
      " 13  Flow IAT Std            63272 non-null  float64\n",
      " 14  Idle Mean               63272 non-null  float64\n",
      " 15  PSH Flag Count          63272 non-null  float64\n",
      " 16  Max Packet Length       63272 non-null  float64\n",
      " 17  Avg Bwd Segment Size    63272 non-null  float64\n",
      " 18  Bwd Packet Length Min   63272 non-null  float64\n",
      " 19  Fwd IAT Total           63272 non-null  float64\n",
      "dtypes: float64(20)\n",
      "memory usage: 9.7 MB\n"
     ]
    }
   ],
   "source": [
    "X_train.info()\n",
    "X_cv.info()"
   ]
  },
  {
   "cell_type": "markdown",
   "metadata": {},
   "source": [
    "# Neural Network"
   ]
  },
  {
   "cell_type": "code",
   "execution_count": 58,
   "metadata": {},
   "outputs": [
    {
     "name": "stdout",
     "output_type": "stream",
     "text": [
      "Epoch 1/100\n",
      "295264/295264 [==============================] - 5s 15us/step - loss: 0.1753 - accuracy: 0.9294\n",
      "Epoch 2/100\n",
      "295264/295264 [==============================] - 4s 15us/step - loss: 0.1240 - accuracy: 0.9542\n",
      "Epoch 3/100\n",
      "295264/295264 [==============================] - 4s 15us/step - loss: 0.1148 - accuracy: 0.9586\n",
      "Epoch 4/100\n",
      "295264/295264 [==============================] - 4s 15us/step - loss: 0.1027 - accuracy: 0.9638\n",
      "Epoch 5/100\n",
      "295264/295264 [==============================] - 4s 15us/step - loss: 0.0886 - accuracy: 0.9706\n",
      "Epoch 6/100\n",
      "295264/295264 [==============================] - 4s 15us/step - loss: 0.0918 - accuracy: 0.9695\n",
      "Epoch 7/100\n",
      "295264/295264 [==============================] - 4s 15us/step - loss: 0.0843 - accuracy: 0.9725\n",
      "Epoch 8/100\n",
      "295264/295264 [==============================] - 4s 15us/step - loss: 0.0901 - accuracy: 0.9703\n",
      "Epoch 9/100\n",
      "295264/295264 [==============================] - 4s 15us/step - loss: 0.0834 - accuracy: 0.9730\n",
      "Epoch 10/100\n",
      "295264/295264 [==============================] - 4s 15us/step - loss: 0.0842 - accuracy: 0.9728\n",
      "Epoch 11/100\n",
      "295264/295264 [==============================] - 4s 15us/step - loss: 0.0789 - accuracy: 0.9746\n",
      "Epoch 12/100\n",
      "295264/295264 [==============================] - 4s 15us/step - loss: 0.0797 - accuracy: 0.9742\n",
      "Epoch 13/100\n",
      "295264/295264 [==============================] - 4s 15us/step - loss: 0.0801 - accuracy: 0.9735\n",
      "Epoch 14/100\n",
      "295264/295264 [==============================] - 5s 16us/step - loss: 0.0834 - accuracy: 0.9723\n",
      "Epoch 15/100\n",
      "295264/295264 [==============================] - 4s 15us/step - loss: 0.0817 - accuracy: 0.9729\n",
      "Epoch 16/100\n",
      "295264/295264 [==============================] - 4s 15us/step - loss: 0.0763 - accuracy: 0.9752\n",
      "Epoch 17/100\n",
      "295264/295264 [==============================] - 4s 15us/step - loss: 0.0776 - accuracy: 0.9750\n",
      "Epoch 18/100\n",
      "295264/295264 [==============================] - 4s 15us/step - loss: 0.0734 - accuracy: 0.9760\n",
      "Epoch 19/100\n",
      "295264/295264 [==============================] - 4s 15us/step - loss: 0.0741 - accuracy: 0.9755\n",
      "Epoch 20/100\n",
      "295264/295264 [==============================] - 4s 15us/step - loss: 0.0715 - accuracy: 0.9767\n",
      "Epoch 21/100\n",
      "295264/295264 [==============================] - 4s 15us/step - loss: 0.0728 - accuracy: 0.9755\n",
      "Epoch 22/100\n",
      "295264/295264 [==============================] - 4s 15us/step - loss: 0.0717 - accuracy: 0.9763\n",
      "Epoch 23/100\n",
      "295264/295264 [==============================] - 5s 15us/step - loss: 0.0701 - accuracy: 0.9772\n",
      "Epoch 24/100\n",
      "295264/295264 [==============================] - 5s 16us/step - loss: 0.0715 - accuracy: 0.9762\n",
      "Epoch 25/100\n",
      "295264/295264 [==============================] - 5s 16us/step - loss: 0.0705 - accuracy: 0.9766\n",
      "Epoch 26/100\n",
      "295264/295264 [==============================] - 5s 16us/step - loss: 0.0702 - accuracy: 0.9765\n",
      "Epoch 27/100\n",
      "295264/295264 [==============================] - 5s 15us/step - loss: 0.0686 - accuracy: 0.9771\n",
      "Epoch 28/100\n",
      "295264/295264 [==============================] - 5s 16us/step - loss: 0.0714 - accuracy: 0.9757\n",
      "Epoch 29/100\n",
      "295264/295264 [==============================] - 5s 15us/step - loss: 0.0679 - accuracy: 0.9770\n",
      "Epoch 30/100\n",
      "295264/295264 [==============================] - 5s 16us/step - loss: 0.0674 - accuracy: 0.9774\n",
      "Epoch 31/100\n",
      "295264/295264 [==============================] - 5s 17us/step - loss: 0.0688 - accuracy: 0.9764\n",
      "Epoch 32/100\n",
      "295264/295264 [==============================] - 5s 15us/step - loss: 0.0673 - accuracy: 0.9775\n",
      "Epoch 33/100\n",
      "295264/295264 [==============================] - 5s 16us/step - loss: 0.0682 - accuracy: 0.9770\n",
      "Epoch 34/100\n",
      "295264/295264 [==============================] - 5s 16us/step - loss: 0.0657 - accuracy: 0.9782\n",
      "Epoch 35/100\n",
      "295264/295264 [==============================] - 5s 16us/step - loss: 0.0670 - accuracy: 0.9773\n",
      "Epoch 36/100\n",
      "295264/295264 [==============================] - 4s 15us/step - loss: 0.0672 - accuracy: 0.9770\n",
      "Epoch 37/100\n",
      "295264/295264 [==============================] - 4s 15us/step - loss: 0.0663 - accuracy: 0.9777\n",
      "Epoch 38/100\n",
      "295264/295264 [==============================] - 4s 15us/step - loss: 0.0674 - accuracy: 0.9771\n",
      "Epoch 39/100\n",
      "295264/295264 [==============================] - 4s 15us/step - loss: 0.0658 - accuracy: 0.9784\n",
      "Epoch 40/100\n",
      "295264/295264 [==============================] - 4s 15us/step - loss: 0.0658 - accuracy: 0.9783\n",
      "Epoch 41/100\n",
      "295264/295264 [==============================] - 4s 15us/step - loss: 0.0652 - accuracy: 0.9787\n",
      "Epoch 42/100\n",
      "295264/295264 [==============================] - 4s 15us/step - loss: 0.0654 - accuracy: 0.9783\n",
      "Epoch 43/100\n",
      "295264/295264 [==============================] - 4s 15us/step - loss: 0.0651 - accuracy: 0.9785\n",
      "Epoch 44/100\n",
      "295264/295264 [==============================] - 4s 15us/step - loss: 0.0642 - accuracy: 0.9789\n",
      "Epoch 45/100\n",
      "295264/295264 [==============================] - 4s 15us/step - loss: 0.0641 - accuracy: 0.9790\n",
      "Epoch 46/100\n",
      "295264/295264 [==============================] - 5s 16us/step - loss: 0.0643 - accuracy: 0.9788\n",
      "Epoch 47/100\n",
      "295264/295264 [==============================] - 5s 16us/step - loss: 0.0643 - accuracy: 0.9788\n",
      "Epoch 48/100\n",
      "295264/295264 [==============================] - 5s 16us/step - loss: 0.0645 - accuracy: 0.9788\n",
      "Epoch 49/100\n",
      "295264/295264 [==============================] - 4s 15us/step - loss: 0.0632 - accuracy: 0.9792\n",
      "Epoch 50/100\n",
      "295264/295264 [==============================] - 4s 15us/step - loss: 0.0643 - accuracy: 0.9789\n",
      "Epoch 51/100\n",
      "295264/295264 [==============================] - ETA: 0s - loss: 0.0641 - accuracy: 0.97 - 4s 15us/step - loss: 0.0641 - accuracy: 0.9787\n",
      "Epoch 52/100\n",
      "295264/295264 [==============================] - 4s 15us/step - loss: 0.0640 - accuracy: 0.9788\n",
      "Epoch 53/100\n",
      "295264/295264 [==============================] - 5s 15us/step - loss: 0.0636 - accuracy: 0.9792\n",
      "Epoch 54/100\n",
      "295264/295264 [==============================] - 5s 17us/step - loss: 0.0634 - accuracy: 0.9791\n",
      "Epoch 55/100\n",
      "295264/295264 [==============================] - 5s 15us/step - loss: 0.0636 - accuracy: 0.9789\n",
      "Epoch 56/100\n",
      "295264/295264 [==============================] - 4s 15us/step - loss: 0.0632 - accuracy: 0.9793\n",
      "Epoch 57/100\n",
      "295264/295264 [==============================] - 4s 15us/step - loss: 0.0636 - accuracy: 0.9789\n",
      "Epoch 58/100\n",
      "295264/295264 [==============================] - 4s 15us/step - loss: 0.0632 - accuracy: 0.9791\n",
      "Epoch 59/100\n",
      "295264/295264 [==============================] - 4s 15us/step - loss: 0.0633 - accuracy: 0.9789\n",
      "Epoch 60/100\n",
      "295264/295264 [==============================] - 4s 15us/step - loss: 0.0631 - accuracy: 0.9791\n",
      "Epoch 61/100\n",
      "295264/295264 [==============================] - 4s 15us/step - loss: 0.0643 - accuracy: 0.9781\n",
      "Epoch 62/100\n",
      "295264/295264 [==============================] - 4s 15us/step - loss: 0.0641 - accuracy: 0.9787\n",
      "Epoch 63/100\n",
      "295264/295264 [==============================] - 5s 16us/step - loss: 0.0635 - accuracy: 0.9791\n",
      "Epoch 64/100\n",
      "295264/295264 [==============================] - 5s 16us/step - loss: 0.0626 - accuracy: 0.9792\n",
      "Epoch 65/100\n",
      "295264/295264 [==============================] - 5s 15us/step - loss: 0.0627 - accuracy: 0.9790\n",
      "Epoch 66/100\n",
      "295264/295264 [==============================] - 5s 16us/step - loss: 0.0632 - accuracy: 0.9789\n",
      "Epoch 67/100\n",
      "295264/295264 [==============================] - 5s 16us/step - loss: 0.0635 - accuracy: 0.9790\n",
      "Epoch 68/100\n",
      "295264/295264 [==============================] - 5s 16us/step - loss: 0.0620 - accuracy: 0.9795\n",
      "Epoch 69/100\n",
      "295264/295264 [==============================] - 5s 16us/step - loss: 0.0622 - accuracy: 0.9791\n",
      "Epoch 70/100\n",
      "295264/295264 [==============================] - 5s 16us/step - loss: 0.0625 - accuracy: 0.9792\n",
      "Epoch 71/100\n",
      "295264/295264 [==============================] - 5s 16us/step - loss: 0.0621 - accuracy: 0.9793\n",
      "Epoch 72/100\n",
      "295264/295264 [==============================] - 5s 16us/step - loss: 0.0622 - accuracy: 0.9795\n",
      "Epoch 73/100\n",
      "295264/295264 [==============================] - 5s 16us/step - loss: 0.0625 - accuracy: 0.9792\n",
      "Epoch 74/100\n",
      "295264/295264 [==============================] - 5s 16us/step - loss: 0.0617 - accuracy: 0.9794\n",
      "Epoch 75/100\n"
     ]
    },
    {
     "name": "stdout",
     "output_type": "stream",
     "text": [
      "295264/295264 [==============================] - 5s 15us/step - loss: 0.0642 - accuracy: 0.9788\n",
      "Epoch 76/100\n",
      "295264/295264 [==============================] - 4s 15us/step - loss: 0.0617 - accuracy: 0.9795\n",
      "Epoch 77/100\n",
      "295264/295264 [==============================] - 4s 15us/step - loss: 0.0617 - accuracy: 0.9794\n",
      "Epoch 78/100\n",
      "295264/295264 [==============================] - 4s 15us/step - loss: 0.0615 - accuracy: 0.9795\n",
      "Epoch 79/100\n",
      "295264/295264 [==============================] - 4s 15us/step - loss: 0.0631 - accuracy: 0.9788\n",
      "Epoch 80/100\n",
      "295264/295264 [==============================] - 5s 16us/step - loss: 0.0607 - accuracy: 0.9794\n",
      "Epoch 81/100\n",
      "295264/295264 [==============================] - 4s 15us/step - loss: 0.0605 - accuracy: 0.9797\n",
      "Epoch 82/100\n",
      "295264/295264 [==============================] - 4s 15us/step - loss: 0.0599 - accuracy: 0.9795\n",
      "Epoch 83/100\n",
      "295264/295264 [==============================] - 4s 15us/step - loss: 0.0599 - accuracy: 0.9796\n",
      "Epoch 84/100\n",
      "295264/295264 [==============================] - 4s 15us/step - loss: 0.0603 - accuracy: 0.9791\n",
      "Epoch 85/100\n",
      "295264/295264 [==============================] - 4s 15us/step - loss: 0.0607 - accuracy: 0.9794\n",
      "Epoch 86/100\n",
      "295264/295264 [==============================] - 4s 15us/step - loss: 0.0598 - accuracy: 0.9795\n",
      "Epoch 87/100\n",
      "295264/295264 [==============================] - 4s 15us/step - loss: 0.0613 - accuracy: 0.9797\n",
      "Epoch 88/100\n",
      "295264/295264 [==============================] - 4s 15us/step - loss: 0.0622 - accuracy: 0.9794\n",
      "Epoch 89/100\n",
      "295264/295264 [==============================] - 5s 16us/step - loss: 0.0620 - accuracy: 0.9794\n",
      "Epoch 90/100\n",
      "295264/295264 [==============================] - 5s 15us/step - loss: 0.0624 - accuracy: 0.9793\n",
      "Epoch 91/100\n",
      "295264/295264 [==============================] - 5s 15us/step - loss: 0.0626 - accuracy: 0.9794\n",
      "Epoch 92/100\n",
      "295264/295264 [==============================] - 5s 15us/step - loss: 0.0626 - accuracy: 0.9793\n",
      "Epoch 93/100\n",
      "295264/295264 [==============================] - 4s 15us/step - loss: 0.0629 - accuracy: 0.9791\n",
      "Epoch 94/100\n",
      "295264/295264 [==============================] - 4s 15us/step - loss: 0.0620 - accuracy: 0.9795\n",
      "Epoch 95/100\n",
      "295264/295264 [==============================] - 5s 15us/step - loss: 0.0631 - accuracy: 0.9793\n",
      "Epoch 96/100\n",
      "295264/295264 [==============================] - 5s 15us/step - loss: 0.0622 - accuracy: 0.9794\n",
      "Epoch 97/100\n",
      "295264/295264 [==============================] - 5s 16us/step - loss: 0.0616 - accuracy: 0.9795\n",
      "Epoch 98/100\n",
      "295264/295264 [==============================] - 5s 16us/step - loss: 0.0612 - accuracy: 0.9797\n",
      "Epoch 99/100\n",
      "295264/295264 [==============================] - 4s 15us/step - loss: 0.0621 - accuracy: 0.9793\n",
      "Epoch 100/100\n",
      "295264/295264 [==============================] - 4s 15us/step - loss: 0.0617 - accuracy: 0.9796\n"
     ]
    },
    {
     "data": {
      "text/plain": [
       "<keras.callbacks.callbacks.History at 0x22780f23a90>"
      ]
     },
     "execution_count": 58,
     "metadata": {},
     "output_type": "execute_result"
    }
   ],
   "source": [
    "import tensorflow as tf\n",
    "import keras\n",
    "from numpy import loadtxt\n",
    "from keras.models import Sequential\n",
    "from keras.layers import Dense\n",
    "import random\n",
    "from numpy.random import seed\n",
    "import matplotlib.pyplot as plt\n",
    "import numpy as np\n",
    "from keras.optimizers import Adam\n",
    "\n",
    "\n",
    "# X_train = X_train.loc[:65535]\n",
    "# y_train = y_train[:65536]\n",
    "model = Sequential()\n",
    "model.add(Dense(2*len(feature_list), input_dim=len(feature_list), activation='relu'))\n",
    "model.add(Dense(2*len(feature_list), activation='relu'))\n",
    "model.add(Dense(len(feature_list), activation='relu'))\n",
    "# model.add(Dense(2*len(feature_list), activation='relu'))\n",
    "# model.add(Dense(len(feature_list), activation='relu'))\n",
    "model.add(Dense(len(feature_list)//2, activation='relu'))\n",
    "model.add(Dense(1, activation='sigmoid'))\n",
    "\n",
    "model.compile(loss='binary_crossentropy', optimizer=Adam(lr=0.005), metrics=['accuracy'])\n",
    "\n",
    "model.fit(X_train, y_train, epochs=100, batch_size=256)\n"
   ]
  },
  {
   "cell_type": "code",
   "execution_count": 71,
   "metadata": {},
   "outputs": [],
   "source": [
    "def eval_metrics(y, y_predicted):\n",
    "    from sklearn.metrics import accuracy_score , precision_score , recall_score , f1_score\n",
    "    print(accuracy_score(y, y_predicted))\n",
    "    print(precision_score(y, y_predicted))\n",
    "    print(recall_score(y, y_predicted))\n",
    "    print(f1_score(y, y_predicted))"
   ]
  },
  {
   "cell_type": "code",
   "execution_count": 72,
   "metadata": {},
   "outputs": [
    {
     "name": "stdout",
     "output_type": "stream",
     "text": [
      "Train metrics\n",
      "0.9793472959791915\n",
      "0.9711268421205015\n",
      "0.9845240541254513\n",
      "0.9777795592350745\n",
      "CV metrics\n",
      "0.9789322291060817\n",
      "0.9699504232572257\n",
      "0.9848640504075064\n",
      "0.9773503474759145\n"
     ]
    }
   ],
   "source": [
    "print('Train metrics')\n",
    "y_train_pred = model.predict_classes(X_train)\n",
    "eval_metrics(y_train, y_train_pred)\n",
    "print('CV metrics')\n",
    "y_cv_pred = model.predict_classes(X_cv)\n",
    "eval_metrics(y_cv, y_cv_pred)"
   ]
  },
  {
   "cell_type": "markdown",
   "metadata": {},
   "source": [
    "# Ensemble Learning"
   ]
  },
  {
   "cell_type": "code",
   "execution_count": 69,
   "metadata": {
    "colab": {},
    "colab_type": "code",
    "id": "MliTJ0dZQLFa"
   },
   "outputs": [],
   "source": [
    "from sklearn.ensemble import VotingClassifier\n",
    "from sklearn.ensemble import GradientBoostingClassifier\n",
    "from sklearn.neighbors import KNeighborsClassifier\n",
    "from sklearn.ensemble import ExtraTreesClassifier\n",
    "from sklearn.ensemble import AdaBoostClassifier\n",
    "from sklearn.ensemble import BaggingClassifier\n",
    "from sklearn.ensemble import RandomForestClassifier\n",
    "from sklearn.metrics import accuracy_score , precision_score , recall_score , f1_score"
   ]
  },
  {
   "cell_type": "code",
   "execution_count": 62,
   "metadata": {
    "colab": {},
    "colab_type": "code",
    "id": "El0FZScBPy-O"
   },
   "outputs": [],
   "source": [
    "rdf_c = RandomForestClassifier(n_estimators=300,random_state=0)\n",
    "knn_clf = KNeighborsClassifier()\n",
    "ExtraTreesClassifier = ExtraTreesClassifier()\n",
    "gradient_boost = GradientBoostingClassifier()\n",
    "ada_mod = AdaBoostClassifier(base_estimator= None)\n",
    "bg_mod = BaggingClassifier(base_estimator= None, bootstrap_features=False)"
   ]
  },
  {
   "cell_type": "code",
   "execution_count": 63,
   "metadata": {
    "colab": {},
    "colab_type": "code",
    "id": "rJdGBuVDPE0q"
   },
   "outputs": [
    {
     "data": {
      "text/plain": [
       "VotingClassifier(estimators=[('bagging_classifier', BaggingClassifier()),\n",
       "                             ('rnd_classifier',\n",
       "                              RandomForestClassifier(n_estimators=300,\n",
       "                                                     random_state=0)),\n",
       "                             ('ExtraTreesClassifier', ExtraTreesClassifier()),\n",
       "                             ('KNN_classifier', KNeighborsClassifier())],\n",
       "                 n_jobs=-1, voting='soft')"
      ]
     },
     "execution_count": 63,
     "metadata": {},
     "output_type": "execute_result"
    }
   ],
   "source": [
    "vot_classifier = VotingClassifier(estimators=[\n",
    "    ('bagging_classifier', bg_mod),\n",
    "    ('rnd_classifier', rdf_c),\n",
    "    ('ExtraTreesClassifier', ExtraTreesClassifier),\n",
    "    ('KNN_classifier', knn_clf),\n",
    "],voting='soft', n_jobs=-1)\n",
    "\n",
    "vot_classifier.fit(X_train, y_train)"
   ]
  },
  {
   "cell_type": "code",
   "execution_count": 74,
   "metadata": {
    "colab": {
     "base_uri": "https://localhost:8080/",
     "height": 85
    },
    "colab_type": "code",
    "id": "I35J4p4oPEm4",
    "outputId": "d1fcf6c9-d878-433d-c2a6-b5598c6cc2b1"
   },
   "outputs": [
    {
     "name": "stdout",
     "output_type": "stream",
     "text": [
      "Train metrics\n",
      "0.9977545518586757\n",
      "0.9954406295438437\n",
      "0.9997138160791336\n",
      "0.9975726466937836\n",
      "CV metrics\n",
      "0.9957801239094702\n",
      "0.9929805431560296\n",
      "0.9979111019793165\n",
      "0.9954397171599858\n"
     ]
    }
   ],
   "source": [
    "print('Train metrics')\n",
    "y_train_pred = vot_classifier.predict(X_train)\n",
    "eval_metrics(y_train, y_train_pred)\n",
    "print('CV metrics')\n",
    "y_cv_pred = vot_classifier.predict(X_cv)\n",
    "eval_metrics(y_cv, y_cv_pred)"
   ]
  },
  {
   "cell_type": "code",
   "execution_count": null,
   "metadata": {
    "colab": {},
    "colab_type": "code",
    "id": "fKEbaLUPn09Y"
   },
   "outputs": [],
   "source": [
    "for clf in (ExtraTreesClassifier, knn_clf, vot_classifier):\n",
    "    clf.fit(X_train, y_train)\n",
    "    y1 = clf.predict(X_train)\n",
    "    print(clf.__class__.__name__, accuracy_score(y_train, y1))\n",
    "    print(precision_score(y_train, y1))\n",
    "    print(recall_score(y_train, y1))\n",
    "    print(f1_score(y_train, y1))"
   ]
  },
  {
   "cell_type": "code",
   "execution_count": null,
   "metadata": {},
   "outputs": [],
   "source": [
    "for clf in (ExtraTreesClassifier, knn_clf, vot_classifier):\n",
    "    clf.fit(X_cv, y_cv)\n",
    "    y1 = clf.predict(X_cv)\n",
    "    print(clf.__class__.__name__, accuracy_score(y_cv, y1))\n",
    "    print(precision_score(y_cv, y1))\n",
    "    print(recall_score(y_cv, y1))\n",
    "    print(f1_score(y_cv, y1))"
   ]
  }
 ],
 "metadata": {
  "colab": {
   "collapsed_sections": [],
   "name": "IDS.ipynb",
   "provenance": []
  },
  "kernelspec": {
   "display_name": "Python 3",
   "language": "python",
   "name": "python3"
  },
  "language_info": {
   "codemirror_mode": {
    "name": "ipython",
    "version": 3
   },
   "file_extension": ".py",
   "mimetype": "text/x-python",
   "name": "python",
   "nbconvert_exporter": "python",
   "pygments_lexer": "ipython3",
   "version": "3.8.3"
  }
 },
 "nbformat": 4,
 "nbformat_minor": 1
}
