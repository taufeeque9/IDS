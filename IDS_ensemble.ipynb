{
 "cells": [
  {
   "cell_type": "code",
   "execution_count": 1,
   "metadata": {
    "colab": {},
    "colab_type": "code",
    "id": "A5DJXyA7N9tm"
   },
   "outputs": [
    {
     "name": "stdout",
     "output_type": "stream",
     "text": [
      "Selection based on Pearson Correlation\n"
     ]
    },
    {
     "name": "stderr",
     "output_type": "stream",
     "text": [
      "c:\\users\\aaate\\appdata\\local\\programs\\python\\python38\\lib\\site-packages\\numpy\\lib\\function_base.py:2534: RuntimeWarning: invalid value encountered in true_divide\n",
      "  c /= stddev[:, None]\n",
      "c:\\users\\aaate\\appdata\\local\\programs\\python\\python38\\lib\\site-packages\\numpy\\lib\\function_base.py:2535: RuntimeWarning: invalid value encountered in true_divide\n",
      "  c /= stddev[None, :]\n"
     ]
    },
    {
     "name": "stdout",
     "output_type": "stream",
     "text": [
      "15 selected features\n",
      "['Flow IAT Max', 'Fwd IAT Max', 'Idle Max', 'Average Packet Size', 'Fwd IAT Std', 'Packet Length Mean', 'Packet Length Variance', 'Max Packet Length', 'Min Packet Length', 'Packet Length Std', 'Bwd Packet Length Min', 'Avg Bwd Segment Size', 'Bwd Packet Length Mean', 'Bwd Packet Length Max', 'Bwd Packet Length Std']\n",
      "Selection based on chi square distibution\n",
      "15 selected features\n",
      "['Bwd Packet Length Max', 'Bwd Packet Length Mean', 'Bwd Packet Length Std', 'Flow IAT Max', 'Fwd IAT Total', 'Fwd IAT Std', 'Fwd IAT Max', 'Packet Length Mean', 'Packet Length Std', 'Packet Length Variance', 'PSH Flag Count', 'Avg Bwd Segment Size', 'Idle Mean', 'Idle Max', 'Idle Min']\n"
     ]
    }
   ],
   "source": [
    "import preprocessing\n",
    "import featureSelection\n",
    "from sklearn.model_selection import train_test_split"
   ]
  },
  {
   "cell_type": "code",
   "execution_count": null,
   "metadata": {
    "colab": {},
    "colab_type": "code",
    "id": "zdydQinuOMJ5"
   },
   "outputs": [],
   "source": []
  },
  {
   "cell_type": "code",
   "execution_count": 2,
   "metadata": {
    "colab": {
     "base_uri": "https://localhost:8080/",
     "height": 255
    },
    "colab_type": "code",
    "id": "u-ZfFYPWOUM7",
    "outputId": "78e1d34b-a9f3-4f81-8f28-00ab120007f0"
   },
   "outputs": [],
   "source": [
    "X_train, y_train = featureSelection.X_train, featureSelection.y_train\n",
    "X_train = X_train[featureSelection.chi_feature]"
   ]
  },
  {
   "cell_type": "code",
   "execution_count": 3,
   "metadata": {
    "colab": {},
    "colab_type": "code",
    "id": "lltC9qMhv0tG"
   },
   "outputs": [],
   "source": [
    "X_cv, y_cv = featureSelection.X_cv, featureSelection.y_cv\n",
    "X_cv = X_cv[featureSelection.chi_feature]"
   ]
  },
  {
   "cell_type": "code",
   "execution_count": 4,
   "metadata": {},
   "outputs": [
    {
     "name": "stdout",
     "output_type": "stream",
     "text": [
      "<class 'pandas.core.frame.DataFrame'>\n",
      "RangeIndex: 295264 entries, 0 to 295263\n",
      "Data columns (total 15 columns):\n",
      " #   Column                  Non-Null Count   Dtype  \n",
      "---  ------                  --------------   -----  \n",
      " 0   Bwd Packet Length Max   295264 non-null  float64\n",
      " 1   Bwd Packet Length Mean  295264 non-null  float64\n",
      " 2   Bwd Packet Length Std   295264 non-null  float64\n",
      " 3   Flow IAT Max            295264 non-null  float64\n",
      " 4   Fwd IAT Total           295264 non-null  float64\n",
      " 5   Fwd IAT Std             295264 non-null  float64\n",
      " 6   Fwd IAT Max             295264 non-null  float64\n",
      " 7   Packet Length Mean      295264 non-null  float64\n",
      " 8   Packet Length Std       295264 non-null  float64\n",
      " 9   Packet Length Variance  295264 non-null  float64\n",
      " 10  PSH Flag Count          295264 non-null  float64\n",
      " 11  Avg Bwd Segment Size    295264 non-null  float64\n",
      " 12  Idle Mean               295264 non-null  float64\n",
      " 13  Idle Max                295264 non-null  float64\n",
      " 14  Idle Min                295264 non-null  float64\n",
      "dtypes: float64(15)\n",
      "memory usage: 33.8 MB\n",
      "<class 'pandas.core.frame.DataFrame'>\n",
      "RangeIndex: 63272 entries, 0 to 63271\n",
      "Data columns (total 15 columns):\n",
      " #   Column                  Non-Null Count  Dtype  \n",
      "---  ------                  --------------  -----  \n",
      " 0   Bwd Packet Length Max   63272 non-null  float64\n",
      " 1   Bwd Packet Length Mean  63272 non-null  float64\n",
      " 2   Bwd Packet Length Std   63272 non-null  float64\n",
      " 3   Flow IAT Max            63272 non-null  float64\n",
      " 4   Fwd IAT Total           63272 non-null  float64\n",
      " 5   Fwd IAT Std             63272 non-null  float64\n",
      " 6   Fwd IAT Max             63272 non-null  float64\n",
      " 7   Packet Length Mean      63272 non-null  float64\n",
      " 8   Packet Length Std       63272 non-null  float64\n",
      " 9   Packet Length Variance  63272 non-null  float64\n",
      " 10  PSH Flag Count          63272 non-null  float64\n",
      " 11  Avg Bwd Segment Size    63272 non-null  float64\n",
      " 12  Idle Mean               63272 non-null  float64\n",
      " 13  Idle Max                63272 non-null  float64\n",
      " 14  Idle Min                63272 non-null  float64\n",
      "dtypes: float64(15)\n",
      "memory usage: 7.2 MB\n"
     ]
    }
   ],
   "source": [
    "X_train.info()\n",
    "X_cv.info()"
   ]
  },
  {
   "cell_type": "code",
   "execution_count": 5,
   "metadata": {
    "colab": {},
    "colab_type": "code",
    "id": "MliTJ0dZQLFa"
   },
   "outputs": [],
   "source": [
    "from sklearn.ensemble import VotingClassifier\n",
    "from sklearn.ensemble import GradientBoostingClassifier\n",
    "from sklearn.neighbors import KNeighborsClassifier\n",
    "from sklearn.ensemble import ExtraTreesClassifier\n",
    "from sklearn.ensemble import AdaBoostClassifier\n",
    "from sklearn.ensemble import BaggingClassifier\n",
    "from sklearn.ensemble import RandomForestClassifier\n",
    "from sklearn.metrics import accuracy_score , precision_score , recall_score , f1_score"
   ]
  },
  {
   "cell_type": "code",
   "execution_count": null,
   "metadata": {
    "colab": {},
    "colab_type": "code",
    "id": "El0FZScBPy-O"
   },
   "outputs": [],
   "source": [
    "rdf_c = RandomForestClassifier(n_estimators=300,random_state=0)\n",
    "knn_clf = KNeighborsClassifier()\n",
    "ExtraTreesClassifier = ExtraTreesClassifier()\n",
    "gradient_boost = GradientBoostingClassifier()\n",
    "ada_mod = AdaBoostClassifier(base_estimator= None)\n",
    "bg_mod = BaggingClassifier(base_estimator= None, bootstrap_features=False)"
   ]
  },
  {
   "cell_type": "code",
   "execution_count": null,
   "metadata": {
    "colab": {},
    "colab_type": "code",
    "id": "rJdGBuVDPE0q"
   },
   "outputs": [],
   "source": [
    "vot_classifier = VotingClassifier(estimators=[\n",
    "    ('bagging_classifier', bg_mod),\n",
    "    ('rnd_classifier', rdf_c),\n",
    "    ('ExtraTreesClassifier', ExtraTreesClassifier),\n",
    "    ('KNN_classifier', knn_clf),\n",
    "],voting='soft', n_jobs=-1)\n",
    "\n",
    "vot_classifier.fit(X_train, y_train)"
   ]
  },
  {
   "cell_type": "code",
   "execution_count": null,
   "metadata": {
    "colab": {
     "base_uri": "https://localhost:8080/",
     "height": 85
    },
    "colab_type": "code",
    "id": "I35J4p4oPEm4",
    "outputId": "d1fcf6c9-d878-433d-c2a6-b5598c6cc2b1"
   },
   "outputs": [],
   "source": [
    "y1 = vot_classifier.predict(X_cv)\n",
    "print(accuracy_score(y_cv, y1))\n",
    "print(precision_score(y_cv, y1))\n",
    "print(recall_score(y_cv, y1))\n",
    "print(f1_score(y_cv, y1))"
   ]
  },
  {
   "cell_type": "code",
   "execution_count": null,
   "metadata": {
    "colab": {
     "base_uri": "https://localhost:8080/",
     "height": 85
    },
    "colab_type": "code",
    "id": "HD9J2OkOPs3_",
    "outputId": "ac9d2628-e612-412a-f847-8eb7857185b6"
   },
   "outputs": [],
   "source": [
    "y1 = vot_classifier.predict(X_train)\n",
    "print(accuracy_score(y_train, y1))\n",
    "print(precision_score(y_train, y1))\n",
    "print(recall_score(y_train, y1))\n",
    "print(f1_score(y_train, y1))"
   ]
  },
  {
   "cell_type": "code",
   "execution_count": null,
   "metadata": {
    "colab": {},
    "colab_type": "code",
    "id": "fKEbaLUPn09Y"
   },
   "outputs": [],
   "source": [
    "for clf in (ExtraTreesClassifier, knn_clf, vot_classifier):\n",
    "    clf.fit(X_train, y_train)\n",
    "    y1 = clf.predict(X_train)\n",
    "    print(clf.__class__.__name__, accuracy_score(y_train, y1))\n",
    "    print(precision_score(y_train, y1))\n",
    "    print(recall_score(y_train, y1))\n",
    "    print(f1_score(y_train, y1))"
   ]
  },
  {
   "cell_type": "code",
   "execution_count": null,
   "metadata": {},
   "outputs": [],
   "source": [
    "for clf in (ExtraTreesClassifier, knn_clf, vot_classifier):\n",
    "    clf.fit(X_cv, y_cv)\n",
    "    y1 = clf.predict(X_cv)\n",
    "    print(clf.__class__.__name__, accuracy_score(y_cv, y1))\n",
    "    print(precision_score(y_cv, y1))\n",
    "    print(recall_score(y_cv, y1))\n",
    "    print(f1_score(y_cv, y1))"
   ]
  },
  {
   "cell_type": "code",
   "execution_count": null,
   "metadata": {},
   "outputs": [],
   "source": []
  },
  {
   "cell_type": "code",
   "execution_count": null,
   "metadata": {},
   "outputs": [],
   "source": []
  }
 ],
 "metadata": {
  "colab": {
   "collapsed_sections": [],
   "name": "IDS.ipynb",
   "provenance": []
  },
  "kernelspec": {
   "display_name": "Python 3",
   "language": "python",
   "name": "python3"
  },
  "language_info": {
   "codemirror_mode": {
    "name": "ipython",
    "version": 3
   },
   "file_extension": ".py",
   "mimetype": "text/x-python",
   "name": "python",
   "nbconvert_exporter": "python",
   "pygments_lexer": "ipython3",
   "version": "3.8.3"
  }
 },
 "nbformat": 4,
 "nbformat_minor": 1
}
