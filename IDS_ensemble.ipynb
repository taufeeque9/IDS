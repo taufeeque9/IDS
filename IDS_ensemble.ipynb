{
 "cells": [
  {
   "cell_type": "code",
   "execution_count": 0,
   "metadata": {
    "colab": {},
    "colab_type": "code",
    "id": "A5DJXyA7N9tm"
   },
   "outputs": [],
   "source": [
    "import preprocessing\n",
    "import featureSelection\n",
    "from sklearn.model_selection import train_test_split"
   ]
  },
  {
   "cell_type": "code",
   "execution_count": 0,
   "metadata": {
    "colab": {},
    "colab_type": "code",
    "id": "zdydQinuOMJ5"
   },
   "outputs": [],
   "source": [
    "X, Y = featureSelection.X_new, featureSelection.y_train"
   ]
  },
  {
   "cell_type": "code",
   "execution_count": 25,
   "metadata": {
    "colab": {
     "base_uri": "https://localhost:8080/",
     "height": 255
    },
    "colab_type": "code",
    "id": "u-ZfFYPWOUM7",
    "outputId": "78e1d34b-a9f3-4f81-8f28-00ab120007f0"
   },
   "outputs": [
    {
     "data": {
      "text/plain": [
       "<bound method NDFrame.head of         Bwd Packet Length Max  Bwd Packet Length Mean  ...  Idle Max  Idle Min\n",
       "179998               0.013006                0.051708  ...  0.000000  0.000000\n",
       "384110               0.000000                0.000000  ...  0.275000  0.275000\n",
       "389559               0.000000                0.000000  ...  0.000000  0.000000\n",
       "299220               0.083333                0.181674  ...  0.083333  0.082999\n",
       "78634                0.000000                0.000000  ...  0.000000  0.000000\n",
       "...                       ...                     ...  ...       ...       ...\n",
       "384798               0.000345                0.001373  ...  0.000000  0.000000\n",
       "253011               0.000000                0.000000  ...  0.083431  0.083431\n",
       "413878               0.333333                0.378986  ...  0.822500  0.822500\n",
       "218035               0.583276                0.531129  ...  0.000000  0.000000\n",
       "106568               0.000000                0.000000  ...  0.000000  0.000000\n",
       "\n",
       "[295275 rows x 15 columns]>"
      ]
     },
     "execution_count": 25,
     "metadata": {
      "tags": []
     },
     "output_type": "execute_result"
    }
   ],
   "source": [
    "Chi_train = X[featureSelection.chi_feature]\n",
    "Chi_train.head"
   ]
  },
  {
   "cell_type": "code",
   "execution_count": 0,
   "metadata": {
    "colab": {},
    "colab_type": "code",
    "id": "lltC9qMhv0tG"
   },
   "outputs": [],
   "source": [
    "X_train, X_test, Y_train, Y_test = train_test_split(Chi_train, Y, test_size=0.5, random_state=1)"
   ]
  },
  {
   "cell_type": "code",
   "execution_count": 0,
   "metadata": {
    "colab": {},
    "colab_type": "code",
    "id": "MliTJ0dZQLFa"
   },
   "outputs": [],
   "source": [
    "from sklearn.ensemble import VotingClassifier\n",
    "from sklearn.ensemble import GradientBoostingClassifier\n",
    "from sklearn.neighbors import KNeighborsClassifier\n",
    "from sklearn.ensemble import ExtraTreesClassifier\n",
    "from sklearn.ensemble import AdaBoostClassifier\n",
    "from sklearn.ensemble import BaggingClassifier\n",
    "from sklearn.ensemble import RandomForestClassifier\n",
    "from sklearn.metrics import accuracy_score , precision_score , recall_score , f1_score"
   ]
  },
  {
   "cell_type": "code",
   "execution_count": 0,
   "metadata": {
    "colab": {},
    "colab_type": "code",
    "id": "El0FZScBPy-O"
   },
   "outputs": [],
   "source": [
    "rdf_c = RandomForestClassifier(n_estimators=300,random_state=0)\n",
    "knn_clf = KNeighborsClassifier()\n",
    "ExtraTreesClassifier = ExtraTreesClassifier()\n",
    "gradient_boost = GradientBoostingClassifier()\n",
    "ada_mod = AdaBoostClassifier(base_estimator= None)\n",
    "bg_mod = BaggingClassifier(base_estimator= None, bootstrap_features=False)"
   ]
  },
  {
   "cell_type": "code",
   "execution_count": 0,
   "metadata": {
    "colab": {},
    "colab_type": "code",
    "id": "rJdGBuVDPE0q"
   },
   "outputs": [],
   "source": [
    "vot_classifier = VotingClassifier(estimators=[\n",
    "    ('bagging_classifier', bg_mod),\n",
    "    ('rnd_classifier', rdf_c),\n",
    "    ('ExtraTreesClassifier', ExtraTreesClassifier),\n",
    "    ('KNN_classifier', knn_clf),\n",
    "],voting='soft', n_jobs=-1)\n",
    "\n",
    "vot_classifier.fit(X_train, Y_train)"
   ]
  },
  {
   "cell_type": "code",
   "execution_count": 42,
   "metadata": {
    "colab": {
     "base_uri": "https://localhost:8080/",
     "height": 85
    },
    "colab_type": "code",
    "id": "I35J4p4oPEm4",
    "outputId": "d1fcf6c9-d878-433d-c2a6-b5598c6cc2b1"
   },
   "outputs": [
    {
     "name": "stdout",
     "output_type": "stream",
     "text": [
      "0.9778173640932551\n",
      "0.9768580264102827\n",
      "0.9751858137765552\n",
      "0.9760212038453934\n"
     ]
    }
   ],
   "source": [
    "y1 = vot_classifier.predict(X_test)\n",
    "print(accuracy_score(Y_test, y1))\n",
    "print(precision_score(Y_test, y1))\n",
    "print(recall_score(Y_test, y1))\n",
    "print(f1_score(Y_test, y1))"
   ]
  },
  {
   "cell_type": "code",
   "execution_count": 43,
   "metadata": {
    "colab": {
     "base_uri": "https://localhost:8080/",
     "height": 85
    },
    "colab_type": "code",
    "id": "HD9J2OkOPs3_",
    "outputId": "ac9d2628-e612-412a-f847-8eb7857185b6"
   },
   "outputs": [
    {
     "name": "stdout",
     "output_type": "stream",
     "text": [
      "0.979500465667598\n",
      "0.9783368838610152\n",
      "0.9772241992882562\n",
      "0.9777802250243196\n"
     ]
    }
   ],
   "source": [
    "y1 = vot_classifier.predict(Chi_train)\n",
    "print(accuracy_score(Y, y1))\n",
    "print(precision_score(Y, y1))\n",
    "print(recall_score(Y, y1))\n",
    "print(f1_score(Y, y1))"
   ]
  },
  {
   "cell_type": "code",
   "execution_count": 0,
   "metadata": {
    "colab": {},
    "colab_type": "code",
    "id": "fKEbaLUPn09Y"
   },
   "outputs": [],
   "source": [
    "for clf in (ExtraTreesClassifier, knn_clf, voting_clf):\n",
    "    clf.fit(Chi_train, Y)\n",
    "    y1 = clf.predict(Chi_train)\n",
    "    print(clf.__class__.__name__, accuracy_score(Y, y1))\n",
    "    print(precision_score(Y, y1))\n",
    "    print(recall_score(Y, y1))\n",
    "    print(f1_score(Y, y1))"
   ]
  }
 ],
 "metadata": {
  "colab": {
   "collapsed_sections": [],
   "name": "IDS.ipynb",
   "provenance": []
  },
  "kernelspec": {
   "display_name": "Python 3",
   "language": "python",
   "name": "python3"
  },
  "language_info": {
   "codemirror_mode": {
    "name": "ipython",
    "version": 3
   },
   "file_extension": ".py",
   "mimetype": "text/x-python",
   "name": "python",
   "nbconvert_exporter": "python",
   "pygments_lexer": "ipython3",
   "version": "3.5.2"
  }
 },
 "nbformat": 4,
 "nbformat_minor": 1
}
